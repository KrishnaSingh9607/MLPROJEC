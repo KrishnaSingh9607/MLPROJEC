{
 "cells": [
  {
   "cell_type": "code",
   "execution_count": 37,
   "id": "08f2a257-556c-4c38-85d8-67fbe94e5f61",
   "metadata": {},
   "outputs": [],
   "source": [
    "\n",
    "import os\n",
    "from pathlib import Path\n",
    "\n",
    "DATA_DIR = Path(\"data\")\n",
    "DATA_DIR.mkdir(exist_ok=True, parents=True)\n",
    "CSV_PATH = DATA_DIR / \"Food_Delivery_Time_Prediction-1.csv\"  \n",
    "\n",
    "ARTIFACTS_DIR = Path(\"artifacts\"); ARTIFACTS_DIR.mkdir(exist_ok=True, parents=True)\n",
    "PLOTS_DIR = ARTIFACTS_DIR / \"plots\"; PLOTS_DIR.mkdir(exist_ok=True, parents=True)\n",
    "MODELS_DIR = ARTIFACTS_DIR / \"models\"; MODELS_DIR.mkdir(exist_ok=True, parents=True)\n",
    "IMG_ROOT = Path(\"images_data\"); IMG_ROOT.mkdir(exist_ok=True, parents=True)\n",
    "IMG_DIR = IMG_ROOT / \"images\"; IMG_DIR.mkdir(exist_ok=True, parents=True)\n",
    "\n",
    "SEED = 42\n",
    "import random, numpy as np\n",
    "random.seed(SEED); np.random.seed(SEED)\n",
    "\n"
   ]
  },
  {
   "cell_type": "code",
   "execution_count": 38,
   "id": "899ff84f-be1c-4b45-9e98-30842828f956",
   "metadata": {},
   "outputs": [],
   "source": [
    "\n",
    "import pandas as pd\n",
    "import numpy as np\n",
    "import re\n",
    "from tqdm import tqdm\n",
    "\n"
   ]
  },
  {
   "cell_type": "code",
   "execution_count": 39,
   "id": "71d65316-51ef-438f-a771-99505d61115c",
   "metadata": {},
   "outputs": [],
   "source": [
    "\n",
    "import matplotlib.pyplot as plt\n",
    "import seaborn as sns\n",
    "\n"
   ]
  },
  {
   "cell_type": "code",
   "execution_count": 40,
   "id": "7ffd7a1a-5162-4b1c-a9c9-db786f4c7289",
   "metadata": {},
   "outputs": [],
   "source": [
    "\n",
    "from sklearn.model_selection import train_test_split, StratifiedKFold\n",
    "from sklearn.preprocessing import OneHotEncoder, StandardScaler\n",
    "from sklearn.compose import ColumnTransformer\n",
    "from sklearn.pipeline import Pipeline\n",
    "from sklearn.impute import SimpleImputer\n",
    "from sklearn.metrics import (accuracy_score, precision_score, recall_score, f1_score,\n",
    "                             roc_auc_score, roc_curve, confusion_matrix, classification_report)\n",
    "from sklearn.linear_model import LogisticRegression\n",
    "from sklearn.utils.class_weight import compute_class_weight\n",
    "from sklearn.model_selection import GridSearchCV, RandomizedSearchCV\n"
   ]
  },
  {
   "cell_type": "code",
   "execution_count": 41,
   "id": "26129d69-8741-42ce-aa7c-9580389ac688",
   "metadata": {},
   "outputs": [],
   "source": [
    "\n",
    "\n",
    "import tensorflow as tf\n",
    "from tensorflow import keras\n",
    "from tensorflow.keras import layers, models\n",
    "\n"
   ]
  },
  {
   "cell_type": "code",
   "execution_count": 42,
   "id": "3c4764c1-4096-4f51-80ac-0eb89c5a5d83",
   "metadata": {},
   "outputs": [
    {
     "name": "stdout",
     "output_type": "stream",
     "text": [
      "TensorFlow: 2.20.0\n"
     ]
    }
   ],
   "source": [
    "\n",
    "from PIL import Image, ImageDraw\n",
    "\n",
    "print(\"TensorFlow:\", tf.__version__)\n"
   ]
  },
  {
   "cell_type": "code",
   "execution_count": 43,
   "id": "4f6f643a-4386-4243-9d3d-bdb8e6ae90d1",
   "metadata": {},
   "outputs": [
    {
     "name": "stdout",
     "output_type": "stream",
     "text": [
      "(200, 15)\n"
     ]
    },
    {
     "data": {
      "text/html": [
       "<div>\n",
       "<style scoped>\n",
       "    .dataframe tbody tr th:only-of-type {\n",
       "        vertical-align: middle;\n",
       "    }\n",
       "\n",
       "    .dataframe tbody tr th {\n",
       "        vertical-align: top;\n",
       "    }\n",
       "\n",
       "    .dataframe thead th {\n",
       "        text-align: right;\n",
       "    }\n",
       "</style>\n",
       "<table border=\"1\" class=\"dataframe\">\n",
       "  <thead>\n",
       "    <tr style=\"text-align: right;\">\n",
       "      <th></th>\n",
       "      <th>Order_ID</th>\n",
       "      <th>Customer_Location</th>\n",
       "      <th>Restaurant_Location</th>\n",
       "      <th>Distance</th>\n",
       "      <th>Weather_Conditions</th>\n",
       "      <th>Traffic_Conditions</th>\n",
       "      <th>Delivery_Person_Experience</th>\n",
       "      <th>Order_Priority</th>\n",
       "      <th>Order_Time</th>\n",
       "      <th>Vehicle_Type</th>\n",
       "      <th>Restaurant_Rating</th>\n",
       "      <th>Customer_Rating</th>\n",
       "      <th>Delivery_Time</th>\n",
       "      <th>Order_Cost</th>\n",
       "      <th>Tip_Amount</th>\n",
       "    </tr>\n",
       "  </thead>\n",
       "  <tbody>\n",
       "    <tr>\n",
       "      <th>0</th>\n",
       "      <td>ORD0001</td>\n",
       "      <td>(17.030479, 79.743077)</td>\n",
       "      <td>(12.358515, 85.100083)</td>\n",
       "      <td>1.57</td>\n",
       "      <td>Rainy</td>\n",
       "      <td>Medium</td>\n",
       "      <td>4</td>\n",
       "      <td>Medium</td>\n",
       "      <td>Afternoon</td>\n",
       "      <td>Car</td>\n",
       "      <td>4.1</td>\n",
       "      <td>3.0</td>\n",
       "      <td>26.22</td>\n",
       "      <td>1321.10</td>\n",
       "      <td>81.54</td>\n",
       "    </tr>\n",
       "    <tr>\n",
       "      <th>1</th>\n",
       "      <td>ORD0002</td>\n",
       "      <td>(15.398319, 86.639122)</td>\n",
       "      <td>(14.174874, 77.025606)</td>\n",
       "      <td>21.32</td>\n",
       "      <td>Cloudy</td>\n",
       "      <td>Medium</td>\n",
       "      <td>8</td>\n",
       "      <td>Low</td>\n",
       "      <td>Night</td>\n",
       "      <td>Car</td>\n",
       "      <td>4.5</td>\n",
       "      <td>4.2</td>\n",
       "      <td>62.61</td>\n",
       "      <td>152.21</td>\n",
       "      <td>29.02</td>\n",
       "    </tr>\n",
       "    <tr>\n",
       "      <th>2</th>\n",
       "      <td>ORD0003</td>\n",
       "      <td>(15.687342, 83.888808)</td>\n",
       "      <td>(19.594748, 82.048482)</td>\n",
       "      <td>6.95</td>\n",
       "      <td>Snowy</td>\n",
       "      <td>Medium</td>\n",
       "      <td>9</td>\n",
       "      <td>High</td>\n",
       "      <td>Night</td>\n",
       "      <td>Bike</td>\n",
       "      <td>3.3</td>\n",
       "      <td>3.4</td>\n",
       "      <td>48.43</td>\n",
       "      <td>1644.38</td>\n",
       "      <td>64.17</td>\n",
       "    </tr>\n",
       "    <tr>\n",
       "      <th>3</th>\n",
       "      <td>ORD0004</td>\n",
       "      <td>(20.415599, 78.046984)</td>\n",
       "      <td>(16.915906, 78.278698)</td>\n",
       "      <td>13.79</td>\n",
       "      <td>Cloudy</td>\n",
       "      <td>Low</td>\n",
       "      <td>2</td>\n",
       "      <td>Medium</td>\n",
       "      <td>Evening</td>\n",
       "      <td>Bike</td>\n",
       "      <td>3.2</td>\n",
       "      <td>3.7</td>\n",
       "      <td>111.63</td>\n",
       "      <td>541.25</td>\n",
       "      <td>79.23</td>\n",
       "    </tr>\n",
       "    <tr>\n",
       "      <th>4</th>\n",
       "      <td>ORD0005</td>\n",
       "      <td>(14.786904, 78.706532)</td>\n",
       "      <td>(15.206038, 86.203182)</td>\n",
       "      <td>6.72</td>\n",
       "      <td>Rainy</td>\n",
       "      <td>High</td>\n",
       "      <td>6</td>\n",
       "      <td>Low</td>\n",
       "      <td>Night</td>\n",
       "      <td>Bike</td>\n",
       "      <td>3.5</td>\n",
       "      <td>2.8</td>\n",
       "      <td>32.38</td>\n",
       "      <td>619.81</td>\n",
       "      <td>2.34</td>\n",
       "    </tr>\n",
       "  </tbody>\n",
       "</table>\n",
       "</div>"
      ],
      "text/plain": [
       "  Order_ID       Customer_Location     Restaurant_Location  Distance  \\\n",
       "0  ORD0001  (17.030479, 79.743077)  (12.358515, 85.100083)      1.57   \n",
       "1  ORD0002  (15.398319, 86.639122)  (14.174874, 77.025606)     21.32   \n",
       "2  ORD0003  (15.687342, 83.888808)  (19.594748, 82.048482)      6.95   \n",
       "3  ORD0004  (20.415599, 78.046984)  (16.915906, 78.278698)     13.79   \n",
       "4  ORD0005  (14.786904, 78.706532)  (15.206038, 86.203182)      6.72   \n",
       "\n",
       "  Weather_Conditions Traffic_Conditions  Delivery_Person_Experience  \\\n",
       "0              Rainy             Medium                           4   \n",
       "1             Cloudy             Medium                           8   \n",
       "2              Snowy             Medium                           9   \n",
       "3             Cloudy                Low                           2   \n",
       "4              Rainy               High                           6   \n",
       "\n",
       "  Order_Priority Order_Time Vehicle_Type  Restaurant_Rating  Customer_Rating  \\\n",
       "0         Medium  Afternoon          Car                4.1              3.0   \n",
       "1            Low      Night          Car                4.5              4.2   \n",
       "2           High      Night         Bike                3.3              3.4   \n",
       "3         Medium    Evening         Bike                3.2              3.7   \n",
       "4            Low      Night         Bike                3.5              2.8   \n",
       "\n",
       "   Delivery_Time  Order_Cost  Tip_Amount  \n",
       "0          26.22     1321.10       81.54  \n",
       "1          62.61      152.21       29.02  \n",
       "2          48.43     1644.38       64.17  \n",
       "3         111.63      541.25       79.23  \n",
       "4          32.38      619.81        2.34  "
      ]
     },
     "execution_count": 43,
     "metadata": {},
     "output_type": "execute_result"
    }
   ],
   "source": [
    "df = pd.read_csv(r\"C:\\Users\\kunal\\Downloads\\Food_Delivery_Time_Prediction (1).csv\")\n",
    "print(df.shape)\n",
    "df.head()\n"
   ]
  },
  {
   "cell_type": "code",
   "execution_count": 44,
   "id": "db55f90f-1818-4ab4-9370-ae53eb2fdd88",
   "metadata": {},
   "outputs": [],
   "source": [
    "\n",
    "def parse_point(s):\n",
    "    if pd.isna(s): return np.nan, np.nan\n",
    "    m = re.match(r\"\\(([-\\d\\.]+),\\s*([-\\d\\.]+)\\)\", str(s).strip())\n",
    "    if m:\n",
    "        return float(m.group(1)), float(m.group(2))\n",
    "    return np.nan, np.nan\n",
    "\n",
    "df[[\"cust_lat\", \"cust_lng\"]] = df[\"Customer_Location\"].apply(lambda s: pd.Series(parse_point(s)))\n",
    "df[[\"rest_lat\", \"rest_lng\"]] = df[\"Restaurant_Location\"].apply(lambda s: pd.Series(parse_point(s)))\n",
    "\n"
   ]
  },
  {
   "cell_type": "code",
   "execution_count": 45,
   "id": "13140dfa-a76d-4b17-a686-ff16b62ce1d9",
   "metadata": {},
   "outputs": [],
   "source": [
    "\n",
    "def haversine_km(lat1, lon1, lat2, lon2):\n",
    "    R = 6371.0088\n",
    "    lat1, lon1, lat2, lon2 = map(np.radians, [lat1, lon1, lat2, lon2])\n",
    "    dlat = lat2 - lat1\n",
    "    dlon = lon2 - lon1\n",
    "    a = np.sin(dlat/2.0)**2 + np.cos(lat1)*np.cos(lat2)*np.sin(dlon/2.0)**2\n",
    "    c = 2*np.arcsin(np.sqrt(a))\n",
    "    return R * c\n",
    "\n",
    "df[\"haversine_km\"] = haversine_km(df[\"rest_lat\"], df[\"rest_lng\"], df[\"cust_lat\"], df[\"cust_lng\"])\n"
   ]
  },
  {
   "cell_type": "code",
   "execution_count": 46,
   "id": "275fd2ca-c90a-4727-a2b3-832ed6cf1b2f",
   "metadata": {},
   "outputs": [],
   "source": [
    "\n",
    "time_map = {\"Morning\": 9, \"Afternoon\": 14, \"Evening\": 19, \"Night\": 22}\n",
    "df[\"order_hour\"] = df[\"Order_Time\"].map(time_map).fillna(14).astype(int)\n"
   ]
  },
  {
   "cell_type": "code",
   "execution_count": 47,
   "id": "8e1f7931-e6f6-45a2-9e4c-77f065d25ad6",
   "metadata": {},
   "outputs": [
    {
     "name": "stdout",
     "output_type": "stream",
     "text": [
      "Delivery_Time median (threshold): 72.775\n"
     ]
    }
   ],
   "source": [
    "\n",
    "median_time = df[\"Delivery_Time\"].median()\n",
    "df[\"y\"] = (df[\"Delivery_Time\"] > median_time).astype(int)\n",
    "print(\"Delivery_Time median (threshold):\", median_time)\n",
    "\n"
   ]
  },
  {
   "cell_type": "code",
   "execution_count": 48,
   "id": "ac346e2b-83a8-4699-888b-0b255c9e7e3e",
   "metadata": {},
   "outputs": [
    {
     "name": "stdout",
     "output_type": "stream",
     "text": [
      "Top missing columns:\n",
      " Order_ID                      0.0\n",
      "Customer_Location             0.0\n",
      "Restaurant_Location           0.0\n",
      "Distance                      0.0\n",
      "Weather_Conditions            0.0\n",
      "Traffic_Conditions            0.0\n",
      "Delivery_Person_Experience    0.0\n",
      "Order_Priority                0.0\n",
      "Order_Time                    0.0\n",
      "Vehicle_Type                  0.0\n",
      "Restaurant_Rating             0.0\n",
      "Customer_Rating               0.0\n",
      "Delivery_Time                 0.0\n",
      "Order_Cost                    0.0\n",
      "Tip_Amount                    0.0\n",
      "cust_lat                      0.0\n",
      "cust_lng                      0.0\n",
      "rest_lat                      0.0\n",
      "rest_lng                      0.0\n",
      "haversine_km                  0.0\n",
      "dtype: float64\n"
     ]
    }
   ],
   "source": [
    "\n",
    "missing_pct = df.isna().mean().sort_values(ascending=False)\n",
    "print(\"Top missing columns:\\n\", missing_pct.head(20))\n"
   ]
  },
  {
   "cell_type": "code",
   "execution_count": 49,
   "id": "9e06202e-d8e6-498c-b37e-64a216f91f5a",
   "metadata": {},
   "outputs": [],
   "source": [
    "\n",
    "cat_cols = [\"Weather_Conditions\", \"Traffic_Conditions\", \"Order_Priority\", \"Order_Time\", \"Vehicle_Type\"]\n",
    "num_cols = [\n",
    "    \"Distance\", \"Delivery_Person_Experience\", \"Restaurant_Rating\", \"Customer_Rating\",\n",
    "    \"Order_Cost\", \"Tip_Amount\", \"haversine_km\", \"order_hour\", \"is_rush_hour\"\n",
    "]\n"
   ]
  },
  {
   "cell_type": "code",
   "execution_count": 50,
   "id": "5214c280-c462-4545-a47f-0fe515acbd02",
   "metadata": {},
   "outputs": [],
   "source": [
    "\n",
    "\n",
    "cat_cols = [c for c in cat_cols if c in df.columns]\n",
    "num_cols = [c for c in num_cols if c in df.columns]\n",
    "\n",
    "features = num_cols + cat_cols\n",
    "X = df[features].copy()\n",
    "y = df[\"y\"].values.astype(int)\n"
   ]
  },
  {
   "cell_type": "code",
   "execution_count": 51,
   "id": "f4fe7080-7c56-4f57-92ba-f873ac880332",
   "metadata": {},
   "outputs": [],
   "source": [
    "\n",
    "\n",
    "X_train, X_test, y_train, y_test = train_test_split(\n",
    "    X, y, test_size=0.2, random_state=SEED, stratify=y\n",
    ")\n"
   ]
  },
  {
   "cell_type": "code",
   "execution_count": 52,
   "id": "d88c6c0e-28ec-4ef8-8d37-a3725e90372c",
   "metadata": {},
   "outputs": [
    {
     "name": "stdout",
     "output_type": "stream",
     "text": [
      "X_train_prep shape: (160, 25)\n"
     ]
    }
   ],
   "source": [
    "\n",
    "\n",
    "numeric_transformer = Pipeline(steps=[\n",
    "    (\"imputer\", SimpleImputer(strategy=\"median\")),\n",
    "    (\"scaler\", StandardScaler())\n",
    "])\n",
    "\n",
    "categorical_transformer = Pipeline(steps=[\n",
    "    (\"imputer\", SimpleImputer(strategy=\"most_frequent\")),\n",
    "    (\"onehot\", OneHotEncoder(handle_unknown=\"ignore\", sparse_output=False))\n",
    "])\n",
    "\n",
    "preprocess = ColumnTransformer(\n",
    "    transformers=[\n",
    "        (\"num\", numeric_transformer, [c for c in num_cols if c in X_train.columns]),\n",
    "        (\"cat\", categorical_transformer, [c for c in cat_cols if c in X_train.columns])\n",
    "    ],\n",
    "    remainder=\"drop\"\n",
    ")\n",
    "\n",
    "X_train_prep = preprocess.fit_transform(X_train)\n",
    "X_test_prep = preprocess.transform(X_test)\n",
    "\n",
    "print(\"X_train_prep shape:\", X_train_prep.shape)"
   ]
  },
  {
   "cell_type": "code",
   "execution_count": 53,
   "id": "0eb0d13b-f5f6-4a7d-944d-7467eefa46ba",
   "metadata": {},
   "outputs": [
    {
     "name": "stdout",
     "output_type": "stream",
     "text": [
      "Class weights: {0: 1.0, 1: 1.0}\n",
      "LogReg: Acc=0.550, Prec=0.556, Rec=0.500, F1=0.526, ROC-AUC=0.485\n",
      "              precision    recall  f1-score   support\n",
      "\n",
      "           0       0.55      0.60      0.57        20\n",
      "           1       0.56      0.50      0.53        20\n",
      "\n",
      "    accuracy                           0.55        40\n",
      "   macro avg       0.55      0.55      0.55        40\n",
      "weighted avg       0.55      0.55      0.55        40\n",
      "\n"
     ]
    }
   ],
   "source": [
    "classes = np.unique(y_train)\n",
    "class_weights = compute_class_weight(class_weight=\"balanced\", classes=classes, y=y_train)\n",
    "cw = {int(k): float(v) for k, v in zip(classes, class_weights)}\n",
    "print(\"Class weights:\", cw)\n",
    "\n",
    "logreg = LogisticRegression(max_iter=1000, class_weight=cw, n_jobs=None)\n",
    "logreg.fit(X_train_prep, y_train)\n",
    "\n",
    "y_pred = logreg.predict(X_test_prep)\n",
    "y_proba = logreg.predict_proba(X_test_prep)[:, 1]\n",
    "\n",
    "def report_metrics(name, y_true, y_pred, y_proba):\n",
    "    acc = accuracy_score(y_true, y_pred)\n",
    "    prec = precision_score(y_true, y_pred, zero_division=0)\n",
    "    rec = recall_score(y_true, y_pred)\n",
    "    f1 = f1_score(y_true, y_pred)\n",
    "    roc = roc_auc_score(y_true, y_proba)\n",
    "    print(f\"{name}: Acc={acc:.3f}, Prec={prec:.3f}, Rec={rec:.3f}, F1={f1:.3f}, ROC-AUC={roc:.3f}\")\n",
    "    print(classification_report(y_true, y_pred))\n",
    "    return {\"acc\":acc, \"prec\":prec, \"rec\":rec, \"f1\":f1, \"roc\":roc}\n",
    "\n",
    "logreg_scores = report_metrics(\"LogReg\", y_test, y_pred, y_proba)\n"
   ]
  },
  {
   "cell_type": "code",
   "execution_count": 54,
   "id": "8618246d-f24d-4536-889f-bfc2ceb7e037",
   "metadata": {},
   "outputs": [
    {
     "data": {
      "image/png": "[encoded data removed]",
      "text/plain": [
       "<Figure size 400x400 with 1 Axes>"
      ]
     },
     "metadata": {},
     "output_type": "display_data"
    }
   ],
   "source": [
    "\n",
    "\n",
    "cm = confusion_matrix(y_test, y_pred)\n",
    "plt.figure(figsize=(4,4))\n",
    "sns.heatmap(cm, annot=True, fmt=\"d\", cbar=False, cmap=\"Blues\")\n",
    "plt.xlabel(\"Predicted\"); plt.ylabel(\"True\"); plt.title(\"LogReg - Confusion Matrix\")\n",
    "plt.tight_layout(); plt.savefig(PLOTS_DIR / \"logreg_confusion_matrix.png\", dpi=150); plt.show()\n"
   ]
  },
  {
   "cell_type": "code",
   "execution_count": 55,
   "id": "df5b6c8f-4506-4f28-8ad5-2fe6a0812d3f",
   "metadata": {},
   "outputs": [
    {
     "data": {
      "image/png": "[encoded data removed]",
      "text/plain": [
       "<Figure size 500x400 with 1 Axes>"
      ]
     },
     "metadata": {},
     "output_type": "display_data"
    }
   ],
   "source": [
    "\n",
    "\n",
    "fpr, tpr, thr = roc_curve(y_test, y_proba)\n",
    "plt.figure(figsize=(5,4))\n",
    "plt.plot(fpr, tpr, label=f\"LogReg (AUC={logreg_scores['roc']:.3f})\")\n",
    "plt.plot([0,1],[0,1],\"k--\")\n",
    "plt.xlabel(\"FPR\"); plt.ylabel(\"TPR\"); plt.title(\"LogReg - ROC Curve\")\n",
    "plt.legend(); plt.tight_layout(); plt.savefig(PLOTS_DIR / \"logreg_roc.png\", dpi=150); plt.show()\n"
   ]
  },
  {
   "cell_type": "code",
   "execution_count": 56,
   "id": "3122ac40-dc17-4c09-a64b-49fe6127e790",
   "metadata": {},
   "outputs": [
    {
     "name": "stdout",
     "output_type": "stream",
     "text": [
      "Fold 1: Acc=0.550, Prec=0.538, Rec=0.700, F1=0.609, ROC-AUC=0.485\n",
      "              precision    recall  f1-score   support\n",
      "\n",
      "           0       0.57      0.40      0.47        20\n",
      "           1       0.54      0.70      0.61        20\n",
      "\n",
      "    accuracy                           0.55        40\n",
      "   macro avg       0.55      0.55      0.54        40\n",
      "weighted avg       0.55      0.55      0.54        40\n",
      "\n",
      "Fold 2: Acc=0.575, Prec=0.571, Rec=0.600, F1=0.585, ROC-AUC=0.557\n",
      "              precision    recall  f1-score   support\n",
      "\n",
      "           0       0.58      0.55      0.56        20\n",
      "           1       0.57      0.60      0.59        20\n",
      "\n",
      "    accuracy                           0.57        40\n",
      "   macro avg       0.58      0.57      0.57        40\n",
      "weighted avg       0.58      0.57      0.57        40\n",
      "\n",
      "Fold 3: Acc=0.550, Prec=0.556, Rec=0.500, F1=0.526, ROC-AUC=0.532\n",
      "              precision    recall  f1-score   support\n",
      "\n",
      "           0       0.55      0.60      0.57        20\n",
      "           1       0.56      0.50      0.53        20\n",
      "\n",
      "    accuracy                           0.55        40\n",
      "   macro avg       0.55      0.55      0.55        40\n",
      "weighted avg       0.55      0.55      0.55        40\n",
      "\n",
      "Fold 4: Acc=0.400, Prec=0.389, Rec=0.350, F1=0.368, ROC-AUC=0.323\n",
      "              precision    recall  f1-score   support\n",
      "\n",
      "           0       0.41      0.45      0.43        20\n",
      "           1       0.39      0.35      0.37        20\n",
      "\n",
      "    accuracy                           0.40        40\n",
      "   macro avg       0.40      0.40      0.40        40\n",
      "weighted avg       0.40      0.40      0.40        40\n",
      "\n",
      "Fold 5: Acc=0.375, Prec=0.308, Rec=0.200, F1=0.242, ROC-AUC=0.438\n",
      "              precision    recall  f1-score   support\n",
      "\n",
      "           0       0.41      0.55      0.47        20\n",
      "           1       0.31      0.20      0.24        20\n",
      "\n",
      "    accuracy                           0.38        40\n",
      "   macro avg       0.36      0.38      0.36        40\n",
      "weighted avg       0.36      0.38      0.36        40\n",
      "\n"
     ]
    }
   ],
   "source": [
    "skf = StratifiedKFold(n_splits=5, shuffle=True, random_state=SEED)\n",
    "cv_metrics = []\n",
    "\n",
    "for fold, (tr_idx, va_idx) in enumerate(skf.split(X, y), 1):\n",
    "    X_tr, X_va = X.iloc[tr_idx], X.iloc[va_idx]\n",
    "    y_tr, y_va = y[tr_idx], y[va_idx]\n",
    "\n",
    "    X_tr_p = preprocess.fit_transform(X_tr)\n",
    "    X_va_p = preprocess.transform(X_va)\n",
    "\n",
    "    classes = np.unique(y_tr)\n",
    "    cw_vals = compute_class_weight(\"balanced\", classes=classes, y=y_tr)\n",
    "    cw_fold = {int(k): float(v) for k, v in zip(classes, cw_vals)}\n",
    "\n",
    "    clf = LogisticRegression(max_iter=1000, class_weight=cw_fold)\n",
    "    clf.fit(X_tr_p, y_tr)\n",
    "\n",
    "    y_va_pred = clf.predict(X_va_p)\n",
    "    y_va_prob = clf.predict_proba(X_va_p)[:,1]\n",
    "\n",
    "    metrics = report_metrics(f\"Fold {fold}\", y_va, y_va_pred, y_va_prob)\n",
    "    cv_metrics.append(metrics)\n",
    "\n"
   ]
  },
  {
   "cell_type": "code",
   "execution_count": 57,
   "id": "ae923eaa-be45-4611-aa8c-d457162bb16c",
   "metadata": {},
   "outputs": [
    {
     "name": "stdout",
     "output_type": "stream",
     "text": [
      "CV Mean: {'acc': 0.49000000000000005, 'prec': 0.4724053724053725, 'rec': 0.47000000000000003, 'f1': 0.46624451807239103, 'roc': 0.46699999999999997}\n"
     ]
    }
   ],
   "source": [
    "# Aggregate CV\n",
    "cv_df = pd.DataFrame(cv_metrics)\n",
    "print(\"CV Mean:\", cv_df.mean().to_dict())\n",
    "cv_df.to_csv(ARTIFACTS_DIR / \"tabular_cv_metrics.csv\", index=False)\n"
   ]
  },
  {
   "cell_type": "code",
   "execution_count": 58,
   "id": "463b9794-0beb-4a97-8021-0adde3232428",
   "metadata": {},
   "outputs": [
    {
     "name": "stdout",
     "output_type": "stream",
     "text": [
      "Fitting 5 folds for each of 10 candidates, totalling 50 fits\n",
      "Best params: {'logreg__C': 0.01, 'logreg__penalty': 'l2', 'logreg__solver': 'liblinear'}\n",
      "Best CV f1: 0.5668073593073593\n",
      "LogReg (Tuned): Acc=0.575, Prec=0.588, Rec=0.500, F1=0.541, ROC-AUC=0.512\n",
      "              precision    recall  f1-score   support\n",
      "\n",
      "           0       0.57      0.65      0.60        20\n",
      "           1       0.59      0.50      0.54        20\n",
      "\n",
      "    accuracy                           0.57        40\n",
      "   macro avg       0.58      0.57      0.57        40\n",
      "weighted avg       0.58      0.57      0.57        40\n",
      "\n"
     ]
    }
   ],
   "source": [
    "param_grid = {\n",
    "    \"logreg__C\": [0.01, 0.1, 1.0, 3.0, 10.0],\n",
    "    \"logreg__penalty\": [\"l2\"],\n",
    "    \"logreg__solver\": [\"lbfgs\", \"liblinear\"]\n",
    "}\n",
    "\n",
    "pipe = Pipeline(steps=[\n",
    "    (\"preprocess\", preprocess),\n",
    "    (\"logreg\", LogisticRegression(max_iter=1000, class_weight=\"balanced\"))\n",
    "])\n",
    "\n",
    "gs = GridSearchCV(pipe, param_grid=param_grid, cv=5, scoring=\"f1\", n_jobs=-1, verbose=1)\n",
    "gs.fit(X_train, y_train)\n",
    "print(\"Best params:\", gs.best_params_)\n",
    "print(\"Best CV f1:\", gs.best_score_)\n",
    "\n",
    "best_pipe = gs.best_estimator_\n",
    "y_pred_gs = best_pipe.predict(X_test)\n",
    "y_proba_gs = best_pipe.predict_proba(X_test)[:,1]\n",
    "best_scores = report_metrics(\"LogReg (Tuned)\", y_test, y_pred_gs, y_proba_gs)\n"
   ]
  },
  {
   "cell_type": "code",
   "execution_count": 59,
   "id": "13c0b107-dd5e-47dc-a41e-773399d48a02",
   "metadata": {},
   "outputs": [],
   "source": [
    "IMG_SIZE = 128\n",
    "\n",
    "#\n",
    "lat_min = df[[\"cust_lat\",\"rest_lat\"]].min().min()\n",
    "lat_max = df[[\"cust_lat\",\"rest_lat\"]].max().max()\n",
    "lng_min = df[[\"cust_lng\",\"rest_lng\"]].min().min()\n",
    "lng_max = df[[\"cust_lng\",\"rest_lng\"]].max().max()\n",
    "\n",
    "def to_img_xy(lat, lng, size=IMG_SIZE):\n",
    "    x = 10 + (size-20) * ((lng - lng_min) / (lng_max - lng_min + 1e-12))\n",
    "    y = 10 + (size-20) * ((lat - lat_min) / (lat_max - lat_min + 1e-12))\n",
    "    y = size - y\n",
    "    return int(np.clip(x, 0, size-1)), int(np.clip(y, 0, size-1))\n",
    "\n",
    "def traffic_to_thickness(t):\n",
    "    m = {\"Low\": 1, \"Medium\": 2, \"High\": 3}\n",
    "    return m.get(t, 2)\n",
    "\n",
    "def weather_to_color(w):\n",
    "   \n",
    "    m = {\"Sunny\": 230, \"Cloudy\": 180, \"Rainy\": 130, \"Snowy\": 90}\n",
    "    return m.get(w, 160)\n"
   ]
  },
  {
   "cell_type": "code",
   "execution_count": 81,
   "id": "01c5c487-ee89-4041-91c4-23a0b41107b2",
   "metadata": {},
   "outputs": [
    {
     "name": "stderr",
     "output_type": "stream",
     "text": [
      "100%|██████████████████████████████████| 200/200 [00:00<00:00, 3263.67it/s]\n"
     ]
    }
   ],
   "source": [
    "\n",
    "img_rows = []\n",
    "for idx, row in tqdm(df.iterrows(), total=len(df)):\n",
    "    cx, cy = to_img_xy(row[\"cust_lat\"], row[\"cust_lng\"])\n",
    "    rx, ry = to_img_xy(row[\"rest_lat\"], row[\"rest_lng\"])\n",
    "\n",
    "    img = Image.new(\"L\", (IMG_SIZE, IMG_SIZE), color=0)  \n",
    "    draw = ImageDraw.Draw(img)\n",
    "\n",
    "    thickness = traffic_to_thickness(row.get(\"Traffic_Conditions\", \"Medium\"))\n",
    "    color = weather_to_color(row.get(\"Weather_Conditions\", \"Cloudy\"))\n",
    "\n",
    "  "
   ]
  },
  {
   "cell_type": "code",
   "execution_count": 82,
   "id": "f5b02541-65e4-4d52-bf81-444d282a96e3",
   "metadata": {},
   "outputs": [],
   "source": [
    "\n",
    "\n",
    "from pathlib import Path\n",
    "from PIL import Image, ImageDraw\n",
    "import numpy as np\n",
    "import pandas as pd\n"
   ]
  },
  {
   "cell_type": "code",
   "execution_count": 83,
   "id": "98347dbd-7faf-4653-b84b-49ee4c24372c",
   "metadata": {},
   "outputs": [],
   "source": [
    "\n",
    "IMG_ROOT = Path(\"images_data\")\n",
    "IMG_ROOT.mkdir(parents=True, exist_ok=True)\n",
    "IMG_DIR = IMG_ROOT / \"images\"\n",
    "IMG_DIR.mkdir(parents=True, exist_ok=True)\n",
    "\n",
    "\n"
   ]
  },
  {
   "cell_type": "code",
   "execution_count": 84,
   "id": "301b25ac-b1ce-48b6-90d1-1f57b021f0ad",
   "metadata": {},
   "outputs": [],
   "source": [
    "\n",
    "required = [\"Order_ID\", \"cust_lat\", \"cust_lng\", \"rest_lat\", \"rest_lng\", \"y\"]\n",
    "missing = [c for c in required if c not in df.columns]\n",
    "if missing:\n",
    "    raise ValueError(f\"Missing columns: {missing}. Make sure you parsed coords and created y.\")\n",
    "\n"
   ]
  },
  {
   "cell_type": "code",
   "execution_count": 85,
   "id": "ac83a35e-dcaa-40ee-bb1e-6bbf7f4c17ce",
   "metadata": {},
   "outputs": [],
   "source": [
    "\n",
    "work = df.dropna(subset=[\"cust_lat\",\"cust_lng\",\"rest_lat\",\"rest_lng\",\"y\"]).copy()\n",
    "if work.empty:\n",
    "    raise ValueError(\"No rows with valid coordinates and y after dropna. Check parsing and label creation.\")\n",
    "\n",
    "IMG_SIZE = 128\n"
   ]
  },
  {
   "cell_type": "code",
   "execution_count": 86,
   "id": "621cec52-788f-492b-ba91-3d90e8b1f65a",
   "metadata": {},
   "outputs": [],
   "source": [
    "\n",
    "\n",
    "lat_min = float(min(work[\"cust_lat\"].min(), work[\"rest_lat\"].min()))\n",
    "lat_max = float(max(work[\"cust_lat\"].max(), work[\"rest_lat\"].max()))\n",
    "lng_min = float(min(work[\"cust_lng\"].min(), work[\"rest_lng\"].min()))\n",
    "lng_max = float(max(work[\"cust_lng\"].max(), work[\"rest_lng\"].max()))\n"
   ]
  },
  {
   "cell_type": "code",
   "execution_count": 97,
   "id": "4d209fcd-55c3-4479-ade9-dcfb5bd4a83f",
   "metadata": {},
   "outputs": [],
   "source": [
    "\n",
    "if np.isclose(lat_max, lat_min):\n",
    "    lat_max = lat_min + 1e-6\n",
    "if np.isclose(lng_max, lng_min):\n",
    "    lng_max = lng_min + 1e-6\n",
    "\n",
    "def to_img_xy(lat, lng, size=IMG_SIZE):\n",
    "    \n",
    "    x = 10 + (size-20) * ((lng - lng_min) / (lng_max - lng_min))\n",
    "    y = 10 + (size-20) * ((lat - lat_min) / (lat_max - lat_min))\n",
    "    y = size - y\n",
    "    if not np.isfinite(x) or not np.isfinite(y):\n",
    "        return None, None\n",
    "    return int(np.clip(round(x), 0, size-1)), int(np.clip(round(y), 0, size-1))\n",
    "\n",
    "def traffic_to_thickness(val):\n",
    "    return int({\"Low\":1, \"Medium\":2, \"High\":3}.get(val, 2))\n",
    "\n",
    "def weather_to_gray(val):\n",
    "  \n",
    "    return int(np.clip({\"Sunny\":230, \"Cloudy\":180, \"Rainy\":130, \"Snowy\":90}.get(val, 160), 0, 255))\n",
    "\n",
    "img_rows = []\n",
    "skipped = 0\n",
    "\n",
    "for _, row in work.iterrows():\n",
    "    \n",
    "    cx, cy = to_img_xy(row[\"cust_lat\"], row[\"cust_lng\"])\n",
    "    rx, ry = to_img_xy(row[\"rest_lat\"], row[\"rest_lng\"])\n",
    "    if cx is None or cy is None or rx is None or ry is None:\n",
    "        skipped += 1\n",
    "        continue\n",
    "\n",
    "   \n",
    "    img = Image.new(\"L\", (IMG_SIZE, IMG_SIZE), color=0)\n",
    "    draw = ImageDraw.Draw(img)\n",
    "\n",
    "    color = weather_to_gray(row.get(\"Weather_Conditions\", \"Cloudy\"))\n",
    "    thickness = traffic_to_thickness(row.get(\"Traffic_Conditions\", \"Medium\"))\n",
    "\n",
    " \n",
    "    draw.line([(int(rx), int(ry)), (int(cx), int(cy))], fill=int(color), width=int(thickness))\n",
    "    draw.ellipse((int(rx)-2, int(ry)-2, int(rx)+2, int(ry)+2), fill=255)\n",
    "    draw.ellipse((int(cx)-2, int(cy)-2, int(cx)+2, int(cy)+2), fill=255)\n",
    "\n",
    "    oid = str(row[\"Order_ID\"])\n",
    "    if not oid or oid == \"nan\":\n",
    "        skipped += 1\n",
    "        continue\n",
    "\n",
    "    fname = f\"{oid}.png\"\n",
    "    img.save(IMG_DIR / fname)\n",
    "\n",
    "    try:\n",
    "        lbl = int(row[\"y\"])\n",
    "    except Exception:\n",
    "        skipped += 1\n",
    "        continue\n",
    "    img_rows.append({\"file\": fname, \"label\": lbl})"
   ]
  },
  {
   "cell_type": "code",
   "execution_count": 94,
   "id": "20a119f0-fdd0-4c38-a4ae-c579be0966ab",
   "metadata": {},
   "outputs": [
    {
     "name": "stdout",
     "output_type": "stream",
     "text": [
      "Generated images: 200 | Skipped rows: 0\n"
     ]
    },
    {
     "data": {
      "text/html": [
       "<div>\n",
       "<style scoped>\n",
       "    .dataframe tbody tr th:only-of-type {\n",
       "        vertical-align: middle;\n",
       "    }\n",
       "\n",
       "    .dataframe tbody tr th {\n",
       "        vertical-align: top;\n",
       "    }\n",
       "\n",
       "    .dataframe thead th {\n",
       "        text-align: right;\n",
       "    }\n",
       "</style>\n",
       "<table border=\"1\" class=\"dataframe\">\n",
       "  <thead>\n",
       "    <tr style=\"text-align: right;\">\n",
       "      <th></th>\n",
       "      <th>file</th>\n",
       "      <th>label</th>\n",
       "    </tr>\n",
       "  </thead>\n",
       "  <tbody>\n",
       "    <tr>\n",
       "      <th>0</th>\n",
       "      <td>ORD0001.png</td>\n",
       "      <td>0</td>\n",
       "    </tr>\n",
       "    <tr>\n",
       "      <th>1</th>\n",
       "      <td>ORD0002.png</td>\n",
       "      <td>0</td>\n",
       "    </tr>\n",
       "    <tr>\n",
       "      <th>2</th>\n",
       "      <td>ORD0003.png</td>\n",
       "      <td>0</td>\n",
       "    </tr>\n",
       "    <tr>\n",
       "      <th>3</th>\n",
       "      <td>ORD0004.png</td>\n",
       "      <td>1</td>\n",
       "    </tr>\n",
       "    <tr>\n",
       "      <th>4</th>\n",
       "      <td>ORD0005.png</td>\n",
       "      <td>0</td>\n",
       "    </tr>\n",
       "  </tbody>\n",
       "</table>\n",
       "</div>"
      ],
      "text/plain": [
       "          file  label\n",
       "0  ORD0001.png      0\n",
       "1  ORD0002.png      0\n",
       "2  ORD0003.png      0\n",
       "3  ORD0004.png      1\n",
       "4  ORD0005.png      0"
      ]
     },
     "metadata": {},
     "output_type": "display_data"
    }
   ],
   "source": [
    "\n",
    "if not img_rows:\n",
    "    raise RuntimeError(\"No images generated. Check data, bounds, and casting.\")\n",
    "\n",
    "img_df = pd.DataFrame(img_rows)\n",
    "img_df.to_csv(IMG_ROOT / \"labels.csv\", index=False)\n",
    "\n",
    "print(f\"Generated images: {len(img_rows)} | Skipped rows: {skipped}\")\n",
    "display(img_df.head())  "
   ]
  },
  {
   "cell_type": "code",
   "execution_count": 98,
   "id": "307a4a93-fcc7-42f7-87c6-125d37d0d4aa",
   "metadata": {},
   "outputs": [],
   "source": [
    "from tensorflow.keras.preprocessing import image_dataset_from_directory\n",
    "\n",
    "\n",
    "FAST_DIR = IMG_ROOT / \"fast\"; FAST_DIR.mkdir(exist_ok=True, parents=True)\n",
    "DELAY_DIR = IMG_ROOT / \"delayed\"; DELAY_DIR.mkdir(exist_ok=True, parents=True)\n"
   ]
  },
  {
   "cell_type": "code",
   "execution_count": 99,
   "id": "c07fa511-1de4-42ea-934e-ab24486d1b70",
   "metadata": {},
   "outputs": [],
   "source": [
    "\n",
    "from shutil import copy2\n",
    "\n",
    "for _, r in img_df.iterrows():\n",
    "    src = IMG_DIR / r[\"file\"]\n",
    "    dst_dir = FAST_DIR if r[\"label\"] == 0 else DELAY_DIR\n",
    "    copy2(src, dst_dir / r[\"file\"])\n"
   ]
  },
  {
   "cell_type": "code",
   "execution_count": 100,
   "id": "d116ea80-b213-47c4-b016-d416d95a4bdc",
   "metadata": {},
   "outputs": [
    {
     "name": "stdout",
     "output_type": "stream",
     "text": [
      "Found 200 files belonging to 2 classes.\n",
      "Using 160 files for training.\n",
      "Found 200 files belonging to 2 classes.\n",
      "Using 40 files for validation.\n"
     ]
    }
   ],
   "source": [
    "\n",
    "\n",
    "BATCH_SIZE = 32\n",
    "train_ds = tf.keras.utils.image_dataset_from_directory(\n",
    "    IMG_ROOT,\n",
    "    labels=\"inferred\",\n",
    "    label_mode=\"int\",\n",
    "    class_names=[\"fast\",\"delayed\"],\n",
    "    validation_split=0.2,\n",
    "    subset=\"training\",\n",
    "    seed=SEED,\n",
    "    image_size=(IMG_SIZE, IMG_SIZE),\n",
    "    batch_size=BATCH_SIZE,\n",
    "    color_mode=\"grayscale\"\n",
    ")\n",
    "\n",
    "val_ds = tf.keras.utils.image_dataset_from_directory(\n",
    "    IMG_ROOT,\n",
    "    labels=\"inferred\",\n",
    "    label_mode=\"int\",\n",
    "    class_names=[\"fast\",\"delayed\"],\n",
    "    validation_split=0.2,\n",
    "    subset=\"validation\",\n",
    "    seed=SEED,\n",
    "    image_size=(IMG_SIZE, IMG_SIZE),\n",
    "    batch_size=BATCH_SIZE,\n",
    "    color_mode=\"grayscale\"\n",
    ")\n",
    "\n"
   ]
  },
  {
   "cell_type": "code",
   "execution_count": 101,
   "id": "3859f34a-3e1e-4943-b315-5c36c82f35a1",
   "metadata": {},
   "outputs": [],
   "source": [
    "\n",
    "AUTOTUNE = tf.data.AUTOTUNE\n",
    "train_ds = train_ds.cache().shuffle(1000, seed=SEED).prefetch(AUTOTUNE)\n",
    "val_ds = val_ds.cache().prefetch(AUTOTUNE)\n"
   ]
  },
  {
   "cell_type": "code",
   "execution_count": 102,
   "id": "5db91036-85eb-4215-8806-b052b5970a79",
   "metadata": {},
   "outputs": [
    {
     "data": {
      "text/html": [
       "<pre style=\"white-space:pre;overflow-x:auto;line-height:normal;font-family:Menlo,'DejaVu Sans Mono',consolas,'Courier New',monospace\"><span style=\"font-weight: bold\">Model: \"functional\"</span>\n",
       "</pre>\n"
      ],
      "text/plain": [
       "\u001b[1mModel: \"functional\"\u001b[0m\n"
      ]
     },
     "metadata": {},
     "output_type": "display_data"
    },
    {
     "data": {
      "text/html": [
       "<pre style=\"white-space:pre;overflow-x:auto;line-height:normal;font-family:Menlo,'DejaVu Sans Mono',consolas,'Courier New',monospace\">┏━━━━━━━━━━━━━━━━━━━━━━━━━━━━━━━┳━━━━━━━━━━━━━━━━━━━━━━━┳━━━━━━━━━━━━━━┓\n",
       "┃<span style=\"font-weight: bold\"> Layer (type)                  </span>┃<span style=\"font-weight: bold\"> Output Shape          </span>┃<span style=\"font-weight: bold\">      Param # </span>┃\n",
       "┡━━━━━━━━━━━━━━━━━━━━━━━━━━━━━━━╇━━━━━━━━━━━━━━━━━━━━━━━╇━━━━━━━━━━━━━━┩\n",
       "│ input_layer (<span style=\"color: #0087ff; text-decoration-color: #0087ff\">InputLayer</span>)      │ (<span style=\"color: #00d7ff; text-decoration-color: #00d7ff\">None</span>, <span style=\"color: #00af00; text-decoration-color: #00af00\">128</span>, <span style=\"color: #00af00; text-decoration-color: #00af00\">128</span>, <span style=\"color: #00af00; text-decoration-color: #00af00\">1</span>)   │            <span style=\"color: #00af00; text-decoration-color: #00af00\">0</span> │\n",
       "├───────────────────────────────┼───────────────────────┼──────────────┤\n",
       "│ rescaling (<span style=\"color: #0087ff; text-decoration-color: #0087ff\">Rescaling</span>)         │ (<span style=\"color: #00d7ff; text-decoration-color: #00d7ff\">None</span>, <span style=\"color: #00af00; text-decoration-color: #00af00\">128</span>, <span style=\"color: #00af00; text-decoration-color: #00af00\">128</span>, <span style=\"color: #00af00; text-decoration-color: #00af00\">1</span>)   │            <span style=\"color: #00af00; text-decoration-color: #00af00\">0</span> │\n",
       "├───────────────────────────────┼───────────────────────┼──────────────┤\n",
       "│ conv2d (<span style=\"color: #0087ff; text-decoration-color: #0087ff\">Conv2D</span>)               │ (<span style=\"color: #00d7ff; text-decoration-color: #00d7ff\">None</span>, <span style=\"color: #00af00; text-decoration-color: #00af00\">128</span>, <span style=\"color: #00af00; text-decoration-color: #00af00\">128</span>, <span style=\"color: #00af00; text-decoration-color: #00af00\">16</span>)  │          <span style=\"color: #00af00; text-decoration-color: #00af00\">160</span> │\n",
       "├───────────────────────────────┼───────────────────────┼──────────────┤\n",
       "│ max_pooling2d (<span style=\"color: #0087ff; text-decoration-color: #0087ff\">MaxPooling2D</span>)  │ (<span style=\"color: #00d7ff; text-decoration-color: #00d7ff\">None</span>, <span style=\"color: #00af00; text-decoration-color: #00af00\">64</span>, <span style=\"color: #00af00; text-decoration-color: #00af00\">64</span>, <span style=\"color: #00af00; text-decoration-color: #00af00\">16</span>)    │            <span style=\"color: #00af00; text-decoration-color: #00af00\">0</span> │\n",
       "├───────────────────────────────┼───────────────────────┼──────────────┤\n",
       "│ conv2d_1 (<span style=\"color: #0087ff; text-decoration-color: #0087ff\">Conv2D</span>)             │ (<span style=\"color: #00d7ff; text-decoration-color: #00d7ff\">None</span>, <span style=\"color: #00af00; text-decoration-color: #00af00\">64</span>, <span style=\"color: #00af00; text-decoration-color: #00af00\">64</span>, <span style=\"color: #00af00; text-decoration-color: #00af00\">32</span>)    │        <span style=\"color: #00af00; text-decoration-color: #00af00\">4,640</span> │\n",
       "├───────────────────────────────┼───────────────────────┼──────────────┤\n",
       "│ max_pooling2d_1               │ (<span style=\"color: #00d7ff; text-decoration-color: #00d7ff\">None</span>, <span style=\"color: #00af00; text-decoration-color: #00af00\">32</span>, <span style=\"color: #00af00; text-decoration-color: #00af00\">32</span>, <span style=\"color: #00af00; text-decoration-color: #00af00\">32</span>)    │            <span style=\"color: #00af00; text-decoration-color: #00af00\">0</span> │\n",
       "│ (<span style=\"color: #0087ff; text-decoration-color: #0087ff\">MaxPooling2D</span>)                │                       │              │\n",
       "├───────────────────────────────┼───────────────────────┼──────────────┤\n",
       "│ conv2d_2 (<span style=\"color: #0087ff; text-decoration-color: #0087ff\">Conv2D</span>)             │ (<span style=\"color: #00d7ff; text-decoration-color: #00d7ff\">None</span>, <span style=\"color: #00af00; text-decoration-color: #00af00\">32</span>, <span style=\"color: #00af00; text-decoration-color: #00af00\">32</span>, <span style=\"color: #00af00; text-decoration-color: #00af00\">64</span>)    │       <span style=\"color: #00af00; text-decoration-color: #00af00\">18,496</span> │\n",
       "├───────────────────────────────┼───────────────────────┼──────────────┤\n",
       "│ global_average_pooling2d      │ (<span style=\"color: #00d7ff; text-decoration-color: #00d7ff\">None</span>, <span style=\"color: #00af00; text-decoration-color: #00af00\">64</span>)            │            <span style=\"color: #00af00; text-decoration-color: #00af00\">0</span> │\n",
       "│ (<span style=\"color: #0087ff; text-decoration-color: #0087ff\">GlobalAveragePooling2D</span>)      │                       │              │\n",
       "├───────────────────────────────┼───────────────────────┼──────────────┤\n",
       "│ dropout (<span style=\"color: #0087ff; text-decoration-color: #0087ff\">Dropout</span>)             │ (<span style=\"color: #00d7ff; text-decoration-color: #00d7ff\">None</span>, <span style=\"color: #00af00; text-decoration-color: #00af00\">64</span>)            │            <span style=\"color: #00af00; text-decoration-color: #00af00\">0</span> │\n",
       "├───────────────────────────────┼───────────────────────┼──────────────┤\n",
       "│ dense (<span style=\"color: #0087ff; text-decoration-color: #0087ff\">Dense</span>)                 │ (<span style=\"color: #00d7ff; text-decoration-color: #00d7ff\">None</span>, <span style=\"color: #00af00; text-decoration-color: #00af00\">1</span>)             │           <span style=\"color: #00af00; text-decoration-color: #00af00\">65</span> │\n",
       "└───────────────────────────────┴───────────────────────┴──────────────┘\n",
       "</pre>\n"
      ],
      "text/plain": [
       "┏━━━━━━━━━━━━━━━━━━━━━━━━━━━━━━━┳━━━━━━━━━━━━━━━━━━━━━━━┳━━━━━━━━━━━━━━┓\n",
       "┃\u001b[1m \u001b[0m\u001b[1mLayer (type)                 \u001b[0m\u001b[1m \u001b[0m┃\u001b[1m \u001b[0m\u001b[1mOutput Shape         \u001b[0m\u001b[1m \u001b[0m┃\u001b[1m \u001b[0m\u001b[1m     Param #\u001b[0m\u001b[1m \u001b[0m┃\n",
       "┡━━━━━━━━━━━━━━━━━━━━━━━━━━━━━━━╇━━━━━━━━━━━━━━━━━━━━━━━╇━━━━━━━━━━━━━━┩\n",
       "│ input_layer (\u001b[38;5;33mInputLayer\u001b[0m)      │ (\u001b[38;5;45mNone\u001b[0m, \u001b[38;5;34m128\u001b[0m, \u001b[38;5;34m128\u001b[0m, \u001b[38;5;34m1\u001b[0m)   │            \u001b[38;5;34m0\u001b[0m │\n",
       "├───────────────────────────────┼───────────────────────┼──────────────┤\n",
       "│ rescaling (\u001b[38;5;33mRescaling\u001b[0m)         │ (\u001b[38;5;45mNone\u001b[0m, \u001b[38;5;34m128\u001b[0m, \u001b[38;5;34m128\u001b[0m, \u001b[38;5;34m1\u001b[0m)   │            \u001b[38;5;34m0\u001b[0m │\n",
       "├───────────────────────────────┼───────────────────────┼──────────────┤\n",
       "│ conv2d (\u001b[38;5;33mConv2D\u001b[0m)               │ (\u001b[38;5;45mNone\u001b[0m, \u001b[38;5;34m128\u001b[0m, \u001b[38;5;34m128\u001b[0m, \u001b[38;5;34m16\u001b[0m)  │          \u001b[38;5;34m160\u001b[0m │\n",
       "├───────────────────────────────┼───────────────────────┼──────────────┤\n",
       "│ max_pooling2d (\u001b[38;5;33mMaxPooling2D\u001b[0m)  │ (\u001b[38;5;45mNone\u001b[0m, \u001b[38;5;34m64\u001b[0m, \u001b[38;5;34m64\u001b[0m, \u001b[38;5;34m16\u001b[0m)    │            \u001b[38;5;34m0\u001b[0m │\n",
       "├───────────────────────────────┼───────────────────────┼──────────────┤\n",
       "│ conv2d_1 (\u001b[38;5;33mConv2D\u001b[0m)             │ (\u001b[38;5;45mNone\u001b[0m, \u001b[38;5;34m64\u001b[0m, \u001b[38;5;34m64\u001b[0m, \u001b[38;5;34m32\u001b[0m)    │        \u001b[38;5;34m4,640\u001b[0m │\n",
       "├───────────────────────────────┼───────────────────────┼──────────────┤\n",
       "│ max_pooling2d_1               │ (\u001b[38;5;45mNone\u001b[0m, \u001b[38;5;34m32\u001b[0m, \u001b[38;5;34m32\u001b[0m, \u001b[38;5;34m32\u001b[0m)    │            \u001b[38;5;34m0\u001b[0m │\n",
       "│ (\u001b[38;5;33mMaxPooling2D\u001b[0m)                │                       │              │\n",
       "├───────────────────────────────┼───────────────────────┼──────────────┤\n",
       "│ conv2d_2 (\u001b[38;5;33mConv2D\u001b[0m)             │ (\u001b[38;5;45mNone\u001b[0m, \u001b[38;5;34m32\u001b[0m, \u001b[38;5;34m32\u001b[0m, \u001b[38;5;34m64\u001b[0m)    │       \u001b[38;5;34m18,496\u001b[0m │\n",
       "├───────────────────────────────┼───────────────────────┼──────────────┤\n",
       "│ global_average_pooling2d      │ (\u001b[38;5;45mNone\u001b[0m, \u001b[38;5;34m64\u001b[0m)            │            \u001b[38;5;34m0\u001b[0m │\n",
       "│ (\u001b[38;5;33mGlobalAveragePooling2D\u001b[0m)      │                       │              │\n",
       "├───────────────────────────────┼───────────────────────┼──────────────┤\n",
       "│ dropout (\u001b[38;5;33mDropout\u001b[0m)             │ (\u001b[38;5;45mNone\u001b[0m, \u001b[38;5;34m64\u001b[0m)            │            \u001b[38;5;34m0\u001b[0m │\n",
       "├───────────────────────────────┼───────────────────────┼──────────────┤\n",
       "│ dense (\u001b[38;5;33mDense\u001b[0m)                 │ (\u001b[38;5;45mNone\u001b[0m, \u001b[38;5;34m1\u001b[0m)             │           \u001b[38;5;34m65\u001b[0m │\n",
       "└───────────────────────────────┴───────────────────────┴──────────────┘\n"
      ]
     },
     "metadata": {},
     "output_type": "display_data"
    },
    {
     "data": {
      "text/html": [
       "<pre style=\"white-space:pre;overflow-x:auto;line-height:normal;font-family:Menlo,'DejaVu Sans Mono',consolas,'Courier New',monospace\"><span style=\"font-weight: bold\"> Total params: </span><span style=\"color: #00af00; text-decoration-color: #00af00\">23,361</span> (91.25 KB)\n",
       "</pre>\n"
      ],
      "text/plain": [
       "\u001b[1m Total params: \u001b[0m\u001b[38;5;34m23,361\u001b[0m (91.25 KB)\n"
      ]
     },
     "metadata": {},
     "output_type": "display_data"
    },
    {
     "data": {
      "text/html": [
       "<pre style=\"white-space:pre;overflow-x:auto;line-height:normal;font-family:Menlo,'DejaVu Sans Mono',consolas,'Courier New',monospace\"><span style=\"font-weight: bold\"> Trainable params: </span><span style=\"color: #00af00; text-decoration-color: #00af00\">23,361</span> (91.25 KB)\n",
       "</pre>\n"
      ],
      "text/plain": [
       "\u001b[1m Trainable params: \u001b[0m\u001b[38;5;34m23,361\u001b[0m (91.25 KB)\n"
      ]
     },
     "metadata": {},
     "output_type": "display_data"
    },
    {
     "data": {
      "text/html": [
       "<pre style=\"white-space:pre;overflow-x:auto;line-height:normal;font-family:Menlo,'DejaVu Sans Mono',consolas,'Courier New',monospace\"><span style=\"font-weight: bold\"> Non-trainable params: </span><span style=\"color: #00af00; text-decoration-color: #00af00\">0</span> (0.00 B)\n",
       "</pre>\n"
      ],
      "text/plain": [
       "\u001b[1m Non-trainable params: \u001b[0m\u001b[38;5;34m0\u001b[0m (0.00 B)\n"
      ]
     },
     "metadata": {},
     "output_type": "display_data"
    }
   ],
   "source": [
    "def make_cnn(input_shape=(IMG_SIZE, IMG_SIZE, 1), num_classes=1):\n",
    "    inputs = layers.Input(shape=input_shape)\n",
    "    x = layers.Rescaling(1./255)(inputs)\n",
    "\n",
    "    x = layers.Conv2D(16, 3, padding=\"same\", activation=\"relu\")(x)\n",
    "    x = layers.MaxPooling2D()(x)\n",
    "\n",
    "    x = layers.Conv2D(32, 3, padding=\"same\", activation=\"relu\")(x)\n",
    "    x = layers.MaxPooling2D()(x)\n",
    "\n",
    "    x = layers.Conv2D(64, 3, padding=\"same\", activation=\"relu\")(x)\n",
    "    x = layers.GlobalAveragePooling2D()(x)\n",
    "\n",
    "    x = layers.Dropout(0.3)(x)\n",
    "    outputs = layers.Dense(1, activation=\"sigmoid\")(x)\n",
    "    model = keras.Model(inputs, outputs)\n",
    "    model.compile(optimizer=keras.optimizers.Adam(learning_rate=1e-3),\n",
    "                  loss=\"binary_crossentropy\",\n",
    "                  metrics=[\"accuracy\", keras.metrics.AUC(name=\"auc\")])\n",
    "    return model\n",
    "\n",
    "cnn = make_cnn()\n",
    "cnn.summary()\n",
    "\n"
   ]
  },
  {
   "cell_type": "code",
   "execution_count": 103,
   "id": "70d47f5f-ce79-49df-87aa-f521aa60dbf2",
   "metadata": {},
   "outputs": [
    {
     "name": "stdout",
     "output_type": "stream",
     "text": [
      "CNN class weights: {0: 1.0, 1: 1.0}\n",
      "Epoch 1/30\n",
      "\u001b[1m5/5\u001b[0m \u001b[32m━━━━━━━━━━━━━━━━━━━━\u001b[0m\u001b[37m\u001b[0m \u001b[1m0s\u001b[0m 247ms/step - accuracy: 0.4863 - auc: 0.4953 - loss: 0.6932\n",
      "Epoch 1: val_auc improved from None to 0.50000, saving model to artifacts\\models\\cnn_best.keras\n",
      "\u001b[1m5/5\u001b[0m \u001b[32m━━━━━━━━━━━━━━━━━━━━\u001b[0m\u001b[37m\u001b[0m \u001b[1m8s\u001b[0m 584ms/step - accuracy: 0.4938 - auc: 0.4820 - loss: 0.6932 - val_accuracy: 0.4500 - val_auc: 0.5000 - val_loss: 0.6939\n",
      "Epoch 2/30\n",
      "\u001b[1m5/5\u001b[0m \u001b[32m━━━━━━━━━━━━━━━━━━━━\u001b[0m\u001b[37m\u001b[0m \u001b[1m0s\u001b[0m 107ms/step - accuracy: 0.5207 - auc: 0.4813 - loss: 0.6924\n",
      "Epoch 2: val_auc improved from 0.50000 to 0.52652, saving model to artifacts\\models\\cnn_best.keras\n",
      "\u001b[1m5/5\u001b[0m \u001b[32m━━━━━━━━━━━━━━━━━━━━\u001b[0m\u001b[37m\u001b[0m \u001b[1m3s\u001b[0m 159ms/step - accuracy: 0.5125 - auc: 0.4984 - loss: 0.6928 - val_accuracy: 0.4500 - val_auc: 0.5265 - val_loss: 0.6947\n",
      "Epoch 3/30\n",
      "\u001b[1m5/5\u001b[0m \u001b[32m━━━━━━━━━━━━━━━━━━━━\u001b[0m\u001b[37m\u001b[0m \u001b[1m0s\u001b[0m 110ms/step - accuracy: 0.5410 - auc: 0.4824 - loss: 0.6914\n",
      "Epoch 3: val_auc did not improve from 0.52652\n",
      "\u001b[1m5/5\u001b[0m \u001b[32m━━━━━━━━━━━━━━━━━━━━\u001b[0m\u001b[37m\u001b[0m \u001b[1m1s\u001b[0m 150ms/step - accuracy: 0.5125 - auc: 0.5231 - loss: 0.6920 - val_accuracy: 0.4500 - val_auc: 0.5101 - val_loss: 0.6953\n",
      "Epoch 4/30\n",
      "\u001b[1m5/5\u001b[0m \u001b[32m━━━━━━━━━━━━━━━━━━━━\u001b[0m\u001b[37m\u001b[0m \u001b[1m0s\u001b[0m 203ms/step - accuracy: 0.5051 - auc: 0.6552 - loss: 0.6910\n",
      "Epoch 4: val_auc improved from 0.52652 to 0.53535, saving model to artifacts\\models\\cnn_best.keras\n",
      "\u001b[1m5/5\u001b[0m \u001b[32m━━━━━━━━━━━━━━━━━━━━\u001b[0m\u001b[37m\u001b[0m \u001b[1m2s\u001b[0m 279ms/step - accuracy: 0.5125 - auc: 0.6084 - loss: 0.6912 - val_accuracy: 0.4500 - val_auc: 0.5354 - val_loss: 0.6963\n",
      "Epoch 5/30\n",
      "\u001b[1m5/5\u001b[0m \u001b[32m━━━━━━━━━━━━━━━━━━━━\u001b[0m\u001b[37m\u001b[0m \u001b[1m0s\u001b[0m 216ms/step - accuracy: 0.4739 - auc: 0.7063 - loss: 0.6924\n",
      "Epoch 5: val_auc improved from 0.53535 to 0.57197, saving model to artifacts\\models\\cnn_best.keras\n",
      "\u001b[1m5/5\u001b[0m \u001b[32m━━━━━━━━━━━━━━━━━━━━\u001b[0m\u001b[37m\u001b[0m \u001b[1m1s\u001b[0m 286ms/step - accuracy: 0.5125 - auc: 0.6800 - loss: 0.6900 - val_accuracy: 0.4500 - val_auc: 0.5720 - val_loss: 0.6966\n",
      "Epoch 6/30\n",
      "\u001b[1m5/5\u001b[0m \u001b[32m━━━━━━━━━━━━━━━━━━━━\u001b[0m\u001b[37m\u001b[0m \u001b[1m0s\u001b[0m 95ms/step - accuracy: 0.4723 - auc: 0.6297 - loss: 0.6936\n",
      "Epoch 6: val_auc improved from 0.57197 to 0.60985, saving model to artifacts\\models\\cnn_best.keras\n",
      "\u001b[1m5/5\u001b[0m \u001b[32m━━━━━━━━━━━━━━━━━━━━\u001b[0m\u001b[37m\u001b[0m \u001b[1m2s\u001b[0m 144ms/step - accuracy: 0.5125 - auc: 0.6225 - loss: 0.6898 - val_accuracy: 0.4500 - val_auc: 0.6098 - val_loss: 0.6974\n",
      "Epoch 7/30\n",
      "\u001b[1m5/5\u001b[0m \u001b[32m━━━━━━━━━━━━━━━━━━━━\u001b[0m\u001b[37m\u001b[0m \u001b[1m0s\u001b[0m 148ms/step - accuracy: 0.4645 - auc: 0.6484 - loss: 0.6940\n",
      "Epoch 7: val_auc did not improve from 0.60985\n",
      "\u001b[1m5/5\u001b[0m \u001b[32m━━━━━━━━━━━━━━━━━━━━\u001b[0m\u001b[37m\u001b[0m \u001b[1m1s\u001b[0m 191ms/step - accuracy: 0.5125 - auc: 0.5941 - loss: 0.6903 - val_accuracy: 0.4500 - val_auc: 0.5884 - val_loss: 0.6975\n",
      "Epoch 8/30\n",
      "\u001b[1m5/5\u001b[0m \u001b[32m━━━━━━━━━━━━━━━━━━━━\u001b[0m\u001b[37m\u001b[0m \u001b[1m0s\u001b[0m 218ms/step - accuracy: 0.5145 - auc: 0.5904 - loss: 0.6877\n",
      "Epoch 8: val_auc did not improve from 0.60985\n",
      "\u001b[1m5/5\u001b[0m \u001b[32m━━━━━━━━━━━━━━━━━━━━\u001b[0m\u001b[37m\u001b[0m \u001b[1m1s\u001b[0m 277ms/step - accuracy: 0.5125 - auc: 0.5618 - loss: 0.6906 - val_accuracy: 0.4500 - val_auc: 0.5859 - val_loss: 0.6993\n",
      "Epoch 9/30\n",
      "\u001b[1m5/5\u001b[0m \u001b[32m━━━━━━━━━━━━━━━━━━━━\u001b[0m\u001b[37m\u001b[0m \u001b[1m0s\u001b[0m 95ms/step - accuracy: 0.5582 - auc: 0.6347 - loss: 0.6797\n",
      "Epoch 9: val_auc did not improve from 0.60985\n",
      "\u001b[1m5/5\u001b[0m \u001b[32m━━━━━━━━━━━━━━━━━━━━\u001b[0m\u001b[37m\u001b[0m \u001b[1m2s\u001b[0m 121ms/step - accuracy: 0.5125 - auc: 0.6321 - loss: 0.6865 - val_accuracy: 0.4500 - val_auc: 0.5947 - val_loss: 0.7008\n",
      "Epoch 10/30\n",
      "\u001b[1m5/5\u001b[0m \u001b[32m━━━━━━━━━━━━━━━━━━━━\u001b[0m\u001b[37m\u001b[0m \u001b[1m0s\u001b[0m 154ms/step - accuracy: 0.5145 - auc: 0.6297 - loss: 0.6844\n",
      "Epoch 10: val_auc did not improve from 0.60985\n",
      "\u001b[1m5/5\u001b[0m \u001b[32m━━━━━━━━━━━━━━━━━━━━\u001b[0m\u001b[37m\u001b[0m \u001b[1m1s\u001b[0m 197ms/step - accuracy: 0.5125 - auc: 0.6083 - loss: 0.6876 - val_accuracy: 0.4500 - val_auc: 0.6048 - val_loss: 0.7002\n",
      "Epoch 11/30\n",
      "\u001b[1m5/5\u001b[0m \u001b[32m━━━━━━━━━━━━━━━━━━━━\u001b[0m\u001b[37m\u001b[0m \u001b[1m0s\u001b[0m 219ms/step - accuracy: 0.4884 - auc: 0.6735 - loss: 0.6890\n",
      "Epoch 11: val_auc improved from 0.60985 to 0.62121, saving model to artifacts\\models\\cnn_best.keras\n",
      "\u001b[1m5/5\u001b[0m \u001b[32m━━━━━━━━━━━━━━━━━━━━\u001b[0m\u001b[37m\u001b[0m \u001b[1m2s\u001b[0m 291ms/step - accuracy: 0.5125 - auc: 0.6603 - loss: 0.6851 - val_accuracy: 0.4500 - val_auc: 0.6212 - val_loss: 0.6981\n",
      "Epoch 12/30\n",
      "\u001b[1m5/5\u001b[0m \u001b[32m━━━━━━━━━━━━━━━━━━━━\u001b[0m\u001b[37m\u001b[0m \u001b[1m0s\u001b[0m 95ms/step - accuracy: 0.4848 - auc: 0.6770 - loss: 0.6886\n",
      "Epoch 12: val_auc did not improve from 0.62121\n",
      "\u001b[1m5/5\u001b[0m \u001b[32m━━━━━━━━━━━━━━━━━━━━\u001b[0m\u001b[37m\u001b[0m \u001b[1m2s\u001b[0m 121ms/step - accuracy: 0.5125 - auc: 0.6554 - loss: 0.6848 - val_accuracy: 0.4500 - val_auc: 0.6048 - val_loss: 0.6979\n",
      "Epoch 13/30\n",
      "\u001b[1m5/5\u001b[0m \u001b[32m━━━━━━━━━━━━━━━━━━━━\u001b[0m\u001b[37m\u001b[0m \u001b[1m0s\u001b[0m 98ms/step - accuracy: 0.5145 - auc: 0.6611 - loss: 0.6825 \n",
      "Epoch 13: val_auc did not improve from 0.62121\n",
      "\u001b[1m5/5\u001b[0m \u001b[32m━━━━━━━━━━━━━━━━━━━━\u001b[0m\u001b[37m\u001b[0m \u001b[1m1s\u001b[0m 138ms/step - accuracy: 0.5125 - auc: 0.6714 - loss: 0.6816 - val_accuracy: 0.4500 - val_auc: 0.5909 - val_loss: 0.6995\n",
      "Epoch 14/30\n",
      "\u001b[1m5/5\u001b[0m \u001b[32m━━━━━━━━━━━━━━━━━━━━\u001b[0m\u001b[37m\u001b[0m \u001b[1m0s\u001b[0m 233ms/step - accuracy: 0.5207 - auc: 0.6243 - loss: 0.6825\n",
      "Epoch 14: val_auc did not improve from 0.62121\n",
      "\u001b[1m5/5\u001b[0m \u001b[32m━━━━━━━━━━━━━━━━━━━━\u001b[0m\u001b[37m\u001b[0m \u001b[1m1s\u001b[0m 276ms/step - accuracy: 0.5125 - auc: 0.6346 - loss: 0.6834 - val_accuracy: 0.4500 - val_auc: 0.5909 - val_loss: 0.7022\n",
      "Epoch 15/30\n",
      "\u001b[1m5/5\u001b[0m \u001b[32m━━━━━━━━━━━━━━━━━━━━\u001b[0m\u001b[37m\u001b[0m \u001b[1m0s\u001b[0m 98ms/step - accuracy: 0.4801 - auc: 0.6760 - loss: 0.6813 \n",
      "Epoch 15: val_auc did not improve from 0.62121\n",
      "\u001b[1m5/5\u001b[0m \u001b[32m━━━━━━━━━━━━━━━━━━━━\u001b[0m\u001b[37m\u001b[0m \u001b[1m2s\u001b[0m 124ms/step - accuracy: 0.5125 - auc: 0.6927 - loss: 0.6757 - val_accuracy: 0.4500 - val_auc: 0.6035 - val_loss: 0.7010\n",
      "Epoch 16/30\n",
      "\u001b[1m5/5\u001b[0m \u001b[32m━━━━━━━━━━━━━━━━━━━━\u001b[0m\u001b[37m\u001b[0m \u001b[1m0s\u001b[0m 178ms/step - accuracy: 0.5160 - auc: 0.6289 - loss: 0.6809\n",
      "Epoch 16: val_auc did not improve from 0.62121\n",
      "\u001b[1m5/5\u001b[0m \u001b[32m━━━━━━━━━━━━━━━━━━━━\u001b[0m\u001b[37m\u001b[0m \u001b[1m1s\u001b[0m 219ms/step - accuracy: 0.5125 - auc: 0.6327 - loss: 0.6818 - val_accuracy: 0.4500 - val_auc: 0.6010 - val_loss: 0.7017\n"
     ]
    }
   ],
   "source": [
    "\n",
    "y_counts = img_df[\"label\"].value_counts()\n",
    "total = len(img_df)\n",
    "w0 = total / (2.0 * y_counts.get(0, 1))\n",
    "w1 = total / (2.0 * y_counts.get(1, 1))\n",
    "class_weight_cnn = {0: float(w0), 1: float(w1)}\n",
    "print(\"CNN class weights:\", class_weight_cnn)\n",
    "\n",
    "callbacks = [\n",
    "    keras.callbacks.ModelCheckpoint(filepath=MODELS_DIR / \"cnn_best.keras\",\n",
    "                                    monitor=\"val_auc\", mode=\"max\",\n",
    "                                    save_best_only=True, verbose=1),\n",
    "    keras.callbacks.EarlyStopping(monitor=\"val_auc\", mode=\"max\",\n",
    "                                  patience=5, restore_best_weights=True)\n",
    "]\n",
    "\n",
    "history = cnn.fit(\n",
    "    train_ds,\n",
    "    validation_data=val_ds,\n",
    "    epochs=30,\n",
    "    class_weight=class_weight_cnn,\n",
    "    callbacks=callbacks\n",
    ")\n"
   ]
  },
  {
   "cell_type": "code",
   "execution_count": 104,
   "id": "a07a901e-f56f-4b97-b0f8-acea12aa4eb5",
   "metadata": {},
   "outputs": [
    {
     "data": {
      "image/png": "[encoded data removed]",
      "text/plain": [
       "<Figure size 600x400 with 1 Axes>"
      ]
     },
     "metadata": {},
     "output_type": "display_data"
    },
    {
     "data": {
      "image/png": "[encoded data removed]",
      "text/plain": [
       "<Figure size 600x400 with 1 Axes>"
      ]
     },
     "metadata": {},
     "output_type": "display_data"
    }
   ],
   "source": [
    "\n",
    "\n",
    "hist = pd.DataFrame(history.history)\n",
    "hist.to_csv(ARTIFACTS_DIR / \"cnn_training_history.csv\", index=False)\n",
    "\n",
    "plt.figure(figsize=(6,4))\n",
    "plt.plot(hist[\"accuracy\"], label=\"train_acc\")\n",
    "plt.plot(hist[\"val_accuracy\"], label=\"val_acc\")\n",
    "plt.legend(); plt.title(\"CNN Accuracy\")\n",
    "plt.tight_layout(); plt.savefig(PLOTS_DIR / \"cnn_accuracy.png\", dpi=150); plt.show()\n",
    "\n",
    "plt.figure(figsize=(6,4))\n",
    "plt.plot(hist[\"auc\"], label=\"train_auc\")\n",
    "plt.plot(hist[\"val_auc\"], label=\"val_auc\")\n",
    "plt.legend(); plt.title(\"CNN AUC\")\n",
    "plt.tight_layout(); plt.savefig(PLOTS_DIR / \"cnn_auc.png\", dpi=150); plt.show()\n"
   ]
  },
  {
   "cell_type": "code",
   "execution_count": 105,
   "id": "1a4f5e08-1763-473b-b4fe-ddd5e4edb09f",
   "metadata": {},
   "outputs": [
    {
     "name": "stdout",
     "output_type": "stream",
     "text": [
      "CNN (val): Acc=0.450, Prec=0.000, Rec=0.000, F1=0.000, ROC-AUC=0.593\n",
      "              precision    recall  f1-score   support\n",
      "\n",
      "           0       0.45      1.00      0.62        18\n",
      "           1       0.00      0.00      0.00        22\n",
      "\n",
      "    accuracy                           0.45        40\n",
      "   macro avg       0.23      0.50      0.31        40\n",
      "weighted avg       0.20      0.45      0.28        40\n",
      "\n"
     ]
    },
    {
     "name": "stderr",
     "output_type": "stream",
     "text": [
      "C:\\Users\\kunal\\anaconda3\\Lib\\site-packages\\sklearn\\metrics\\_classification.py:1565: UndefinedMetricWarning: Precision is ill-defined and being set to 0.0 in labels with no predicted samples. Use `zero_division` parameter to control this behavior.\n",
      "  _warn_prf(average, modifier, f\"{metric.capitalize()} is\", len(result))\n",
      "C:\\Users\\kunal\\anaconda3\\Lib\\site-packages\\sklearn\\metrics\\_classification.py:1565: UndefinedMetricWarning: Precision is ill-defined and being set to 0.0 in labels with no predicted samples. Use `zero_division` parameter to control this behavior.\n",
      "  _warn_prf(average, modifier, f\"{metric.capitalize()} is\", len(result))\n",
      "C:\\Users\\kunal\\anaconda3\\Lib\\site-packages\\sklearn\\metrics\\_classification.py:1565: UndefinedMetricWarning: Precision is ill-defined and being set to 0.0 in labels with no predicted samples. Use `zero_division` parameter to control this behavior.\n",
      "  _warn_prf(average, modifier, f\"{metric.capitalize()} is\", len(result))\n"
     ]
    }
   ],
   "source": [
    "\n",
    "y_true_cnn = []\n",
    "y_prob_cnn = []\n",
    "\n",
    "for imgs, labels in val_ds:\n",
    "    probs = cnn.predict(imgs, verbose=0).ravel()\n",
    "    y_prob_cnn.extend(probs.tolist())\n",
    "    y_true_cnn.extend(labels.numpy().tolist())\n",
    "\n",
    "y_true_cnn = np.array(y_true_cnn)\n",
    "y_prob_cnn = np.array(y_prob_cnn)\n",
    "y_pred_cnn = (y_prob_cnn >= 0.5).astype(int)\n",
    "\n",
    "cnn_metrics = report_metrics(\"CNN (val)\", y_true_cnn, y_pred_cnn, y_prob_cnn)\n",
    "\n"
   ]
  },
  {
   "cell_type": "code",
   "execution_count": 106,
   "id": "62b14f81-9da4-4583-91cb-1e98f6cfde29",
   "metadata": {},
   "outputs": [
    {
     "data": {
      "image/png": "[encoded data removed]",
      "text/plain": [
       "<Figure size 400x400 with 1 Axes>"
      ]
     },
     "metadata": {},
     "output_type": "display_data"
    }
   ],
   "source": [
    "\n",
    "cm = confusion_matrix(y_true_cnn, y_pred_cnn)\n",
    "plt.figure(figsize=(4,4))\n",
    "sns.heatmap(cm, annot=True, fmt=\"d\", cbar=False, cmap=\"Purples\")\n",
    "plt.xlabel(\"Predicted\"); plt.ylabel(\"True\"); plt.title(\"CNN - Confusion Matrix\")\n",
    "plt.tight_layout(); plt.savefig(PLOTS_DIR / \"cnn_confusion_matrix.png\", dpi=150); plt.show()\n",
    "\n"
   ]
  },
  {
   "cell_type": "code",
   "execution_count": 107,
   "id": "d383c96b-d55b-4dda-bed9-426e3c6c42af",
   "metadata": {},
   "outputs": [
    {
     "data": {
      "image/png": "[encoded data removed]",
      "text/plain": [
       "<Figure size 500x400 with 1 Axes>"
      ]
     },
     "metadata": {},
     "output_type": "display_data"
    }
   ],
   "source": [
    "\n",
    "fpr, tpr, _ = roc_curve(y_true_cnn, y_prob_cnn)\n",
    "auc_val = roc_auc_score(y_true_cnn, y_prob_cnn)\n",
    "plt.figure(figsize=(5,4))\n",
    "plt.plot(fpr, tpr, label=f\"CNN (AUC={auc_val:.3f})\", color=\"purple\")\n",
    "plt.plot([0,1],[0,1],\"k--\")\n",
    "plt.xlabel(\"FPR\"); plt.ylabel(\"TPR\"); plt.title(\"CNN - ROC Curve\")\n",
    "plt.legend(); plt.tight_layout(); plt.savefig(PLOTS_DIR / \"cnn_roc.png\", dpi=150); plt.show()\n"
   ]
  },
  {
   "cell_type": "code",
   "execution_count": 108,
   "id": "88bd549d-64e7-4416-a376-eda5d1a26bf6",
   "metadata": {},
   "outputs": [
    {
     "name": "stdout",
     "output_type": "stream",
     "text": [
      "Config: {'filters_first': 16, 'lr': 0.001, 'drop': 0.3, 'kernel_size': 3}\n",
      "Val AUC: 0.625\n",
      "Config: {'filters_first': 32, 'lr': 0.0005, 'drop': 0.4, 'kernel_size': 3}\n",
      "Val AUC: 0.618686854839325\n",
      "Config: {'filters_first': 16, 'lr': 0.0001, 'drop': 0.5, 'kernel_size': 5}\n",
      "Val AUC: 0.6527777910232544\n",
      "Config: {'filters_first': 32, 'lr': 0.001, 'drop': 0.3, 'kernel_size': 5}\n",
      "Val AUC: 0.622474730014801\n",
      "Best CNN config: {'filters_first': 16, 'lr': 0.0001, 'drop': 0.5, 'kernel_size': 5} Best Val AUC: 0.6527777910232544\n"
     ]
    }
   ],
   "source": [
    "def build_cnn(filters_first=16, lr=1e-3, drop=0.3, kernel_size=3):\n",
    "    inputs = layers.Input(shape=(IMG_SIZE, IMG_SIZE, 1))\n",
    "    x = layers.Rescaling(1./255)(inputs)\n",
    "    f1, f2, f3 = filters_first, filters_first*2, filters_first*4\n",
    "\n",
    "    x = layers.Conv2D(f1, kernel_size, padding=\"same\", activation=\"relu\")(x)\n",
    "    x = layers.MaxPooling2D()(x)\n",
    "    x = layers.Conv2D(f2, kernel_size, padding=\"same\", activation=\"relu\")(x)\n",
    "    x = layers.MaxPooling2D()(x)\n",
    "    x = layers.Conv2D(f3, kernel_size, padding=\"same\", activation=\"relu\")(x)\n",
    "    x = layers.GlobalAveragePooling2D()(x)\n",
    "    x = layers.Dropout(drop)(x)\n",
    "    outputs = layers.Dense(1, activation=\"sigmoid\")(x)\n",
    "    model = keras.Model(inputs, outputs)\n",
    "    model.compile(optimizer=keras.optimizers.Adam(learning_rate=lr),\n",
    "                  loss=\"binary_crossentropy\",\n",
    "                  metrics=[\"accuracy\", keras.metrics.AUC(name=\"auc\")])\n",
    "    return model\n",
    "\n",
    "search_space = [\n",
    "    {\"filters_first\": 16, \"lr\": 1e-3, \"drop\":0.3, \"kernel_size\":3},\n",
    "    {\"filters_first\": 32, \"lr\": 5e-4, \"drop\":0.4, \"kernel_size\":3},\n",
    "    {\"filters_first\": 16, \"lr\": 1e-4, \"drop\":0.5, \"kernel_size\":5},\n",
    "    {\"filters_first\": 32, \"lr\": 1e-3, \"drop\":0.3, \"kernel_size\":5},\n",
    "]\n",
    "\n",
    "best_auc = -np.inf\n",
    "best_cfg = None\n",
    "\n",
    "for cfg in search_space:\n",
    "    print(\"Config:\", cfg)\n",
    "    model = build_cnn(**cfg)\n",
    "    history = model.fit(\n",
    "        train_ds,\n",
    "        validation_data=val_ds,\n",
    "        epochs=10,\n",
    "        class_weight=class_weight_cnn,\n",
    "        verbose=0\n",
    "    )\n",
    "    val_auc = max(history.history[\"val_auc\"])\n",
    "    print(\"Val AUC:\", val_auc)\n",
    "    if val_auc > best_auc:\n",
    "        best_auc = val_auc\n",
    "        best_cfg = cfg\n",
    "        model.save(MODELS_DIR / \"cnn_tuned.keras\")\n",
    "\n",
    "print(\"Best CNN config:\", best_cfg, \"Best Val AUC:\", best_auc)\n"
   ]
  },
  {
   "cell_type": "code",
   "execution_count": 109,
   "id": "8ab7476c-8cbf-4f3a-ab3d-b4e25752e67c",
   "metadata": {},
   "outputs": [
    {
     "data": {
      "text/html": [
       "<div>\n",
       "<style scoped>\n",
       "    .dataframe tbody tr th:only-of-type {\n",
       "        vertical-align: middle;\n",
       "    }\n",
       "\n",
       "    .dataframe tbody tr th {\n",
       "        vertical-align: top;\n",
       "    }\n",
       "\n",
       "    .dataframe thead th {\n",
       "        text-align: right;\n",
       "    }\n",
       "</style>\n",
       "<table border=\"1\" class=\"dataframe\">\n",
       "  <thead>\n",
       "    <tr style=\"text-align: right;\">\n",
       "      <th></th>\n",
       "      <th>model</th>\n",
       "      <th>acc</th>\n",
       "      <th>prec</th>\n",
       "      <th>rec</th>\n",
       "      <th>f1</th>\n",
       "      <th>roc</th>\n",
       "    </tr>\n",
       "  </thead>\n",
       "  <tbody>\n",
       "    <tr>\n",
       "      <th>0</th>\n",
       "      <td>LogReg (default)</td>\n",
       "      <td>0.550</td>\n",
       "      <td>0.555556</td>\n",
       "      <td>0.5</td>\n",
       "      <td>0.526316</td>\n",
       "      <td>0.485000</td>\n",
       "    </tr>\n",
       "    <tr>\n",
       "      <th>1</th>\n",
       "      <td>LogReg (tuned)</td>\n",
       "      <td>0.575</td>\n",
       "      <td>0.588235</td>\n",
       "      <td>0.5</td>\n",
       "      <td>0.540541</td>\n",
       "      <td>0.512500</td>\n",
       "    </tr>\n",
       "    <tr>\n",
       "      <th>2</th>\n",
       "      <td>CNN (val)</td>\n",
       "      <td>0.450</td>\n",
       "      <td>0.000000</td>\n",
       "      <td>0.0</td>\n",
       "      <td>0.000000</td>\n",
       "      <td>0.593434</td>\n",
       "    </tr>\n",
       "  </tbody>\n",
       "</table>\n",
       "</div>"
      ],
      "text/plain": [
       "              model    acc      prec  rec        f1       roc\n",
       "0  LogReg (default)  0.550  0.555556  0.5  0.526316  0.485000\n",
       "1    LogReg (tuned)  0.575  0.588235  0.5  0.540541  0.512500\n",
       "2         CNN (val)  0.450  0.000000  0.0  0.000000  0.593434"
      ]
     },
     "execution_count": 109,
     "metadata": {},
     "output_type": "execute_result"
    }
   ],
   "source": [
    "comparison = pd.DataFrame([\n",
    "    {\"model\":\"LogReg (default)\", **logreg_scores},\n",
    "    {\"model\":\"LogReg (tuned)\", **best_scores},\n",
    "    {\"model\":\"CNN (val)\", **cnn_metrics}\n",
    "])\n",
    "comparison\n"
   ]
  },
  {
   "cell_type": "code",
   "execution_count": 110,
   "id": "0d44e830-a91b-484e-bbe3-863b550f4de7",
   "metadata": {},
   "outputs": [
    {
     "name": "stdout",
     "output_type": "stream",
     "text": [
      "Saved tabular models and preprocessors.\n"
     ]
    }
   ],
   "source": [
    "import joblib\n",
    "joblib.dump(preprocess, MODELS_DIR / \"preprocess.joblib\")\n",
    "joblib.dump(logreg, MODELS_DIR / \"logreg_default.joblib\")\n",
    "joblib.dump(best_pipe, MODELS_DIR / \"logreg_tuned.joblib\")\n",
    "print(\"Saved tabular models and preprocessors.\")\n"
   ]
  },
  {
   "cell_type": "code",
   "execution_count": null,
   "id": "c5a4d7ed-13c8-4c36-9e7d-b21e9a10b08d",
   "metadata": {},
   "outputs": [],
   "source": []
  }
 ],
 "metadata": {
  "kernelspec": {
   "display_name": "Python 3 (ipykernel)",
   "language": "python",
   "name": "python3"
  },
  "language_info": {
   "codemirror_mode": {
    "name": "ipython",
    "version": 3
   },
   "file_extension": ".py",
   "mimetype": "text/x-python",
   "name": "python",
   "nbconvert_exporter": "python",
   "pygments_lexer": "ipython3",
   "version": "3.13.5"
  }
 },
 "nbformat": 4,
 "nbformat_minor": 5
}

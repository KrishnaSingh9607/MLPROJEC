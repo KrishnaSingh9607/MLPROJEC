{
 "cells": [
  {
   "cell_type": "code",
   "execution_count": 85,
   "id": "45e857bc-31b7-4212-99fd-44f7eda7c40b",
   "metadata": {},
   "outputs": [],
   "source": [
    "\n",
    "import pandas as pd\n",
    "import numpy as np\n",
    "from sklearn.preprocessing import LabelEncoder, OneHotEncoder, StandardScaler\n",
    "from sklearn.impute import SimpleImputer\n"
   ]
  },
  {
   "cell_type": "code",
   "execution_count": 86,
   "id": "4b004a00-b981-4707-8c4a-31d9ebc83979",
   "metadata": {},
   "outputs": [],
   "source": [
    "\n",
    "\n",
    "data = pd.read_csv(r\"C:\\Users\\kunal\\Downloads\\Food_Delivery_Time_Prediction (1).csv\")\n",
    "\n"
   ]
  },
  {
   "cell_type": "code",
   "execution_count": 87,
   "id": "3917bcdc-453e-4eed-8145-51aa3a6abec1",
   "metadata": {},
   "outputs": [],
   "source": [
    "\n",
    "\n",
    "data[['Cust_Lat', 'Cust_Long']] = data['Customer_Location'].str.extract(r'\\((.*), (.*)\\)').astype(float)\n",
    "data[['Rest_Lat', 'Rest_Long']] = data['Restaurant_Location'].str.extract(r'\\((.*), (.*)\\)').astype(float)\n"
   ]
  },
  {
   "cell_type": "code",
   "execution_count": 88,
   "id": "8b55b305-25ab-4ad6-9649-90a86b78f299",
   "metadata": {},
   "outputs": [],
   "source": [
    "\n",
    "imputer = SimpleImputer(strategy='median')\n",
    "data['Delivery_Time'] = imputer.fit_transform(data[['Delivery_Time']])\n",
    "data.fillna(data.median(numeric_only=True), inplace=True)\n",
    "\n"
   ]
  },
  {
   "cell_type": "code",
   "execution_count": 89,
   "id": "6dcfb80d-cef0-490c-9539-45c36cf1a0fa",
   "metadata": {},
   "outputs": [],
   "source": [
    "\n",
    "cat_cols = ['Weather_Conditions', 'Traffic_Conditions', 'Order_Priority', 'Order_Time', 'Vehicle_Type']\n",
    "data = pd.get_dummies(data, columns=cat_cols)\n",
    "\n"
   ]
  },
  {
   "cell_type": "code",
   "execution_count": 90,
   "id": "ee074d18-def0-4616-be95-3e010dca54d5",
   "metadata": {},
   "outputs": [],
   "source": [
    "\n",
    "\n",
    "\n",
    "scaler = StandardScaler()\n",
    "num_cols = ['Distance', 'Delivery_Person_Experience', 'Restaurant_Rating', 'Customer_Rating', 'Delivery_Time', 'Order_Cost', 'Tip_Amount']\n",
    "data[num_cols] = scaler.fit_transform(data[num_cols])\n",
    "\n",
    "\n"
   ]
  },
  {
   "cell_type": "code",
   "execution_count": 91,
   "id": "2d631b91-bbeb-4dc5-af18-a82d5b586744",
   "metadata": {},
   "outputs": [],
   "source": [
    "\n",
    "def haversine(lat1, lon1, lat2, lon2):\n",
    "    R = 6371\n",
    "    lat1 = np.radians(lat1)\n",
    "    lon1 = np.radians(lon1)\n",
    "    lat2 = np.radians(lat2)\n",
    "    lon2 = np.radians(lon2)\n",
    "    dlat = lat2 - lat1 \n",
    "    dlon = lon2 - lon1 \n",
    "    a = np.sin(dlat/2)**2 + np.cos(lat1)*np.cos(lat2)*np.sin(dlon/2)**2\n",
    "    c = 2*np.arctan2(np.sqrt(a), np.sqrt(1-a))\n",
    "    return R * c\n",
    "\n",
    "data['Geo_Distance'] = haversine(data['Cust_Lat'], data['Cust_Long'], data['Rest_Lat'], data['Rest_Long'])\n",
    "\n",
    "\n"
   ]
  },
  {
   "cell_type": "code",
   "execution_count": 92,
   "id": "ffe0af81-6b39-417f-a279-4d4c66257abc",
   "metadata": {},
   "outputs": [],
   "source": [
    "\n",
    "data['Rush_Hour'] = data['Order_Time_Afternoon'] + data['Order_Time_Evening']\n",
    "\n"
   ]
  },
  {
   "cell_type": "code",
   "execution_count": 93,
   "id": "4e61a1fb-621e-4841-b00d-e8d87413e409",
   "metadata": {},
   "outputs": [],
   "source": [
    "\n",
    "data['Delivery_Status'] = np.where(data['Delivery_Time'] < data['Delivery_Time'].median(), 0, 1)\n"
   ]
  },
  {
   "cell_type": "code",
   "execution_count": 94,
   "id": "d8078e0e-bb93-46e7-aaf8-a19b38f5b19f",
   "metadata": {},
   "outputs": [],
   "source": [
    "from sklearn.cluster import KMeans\n",
    "import matplotlib.pyplot as plt\n",
    "\n",
    "X_cluster = data[num_cols + ['Geo_Distance', 'Rush_Hour']]\n"
   ]
  },
  {
   "cell_type": "code",
   "execution_count": 95,
   "id": "3b0a3429-2710-41f6-8b1c-08992830d869",
   "metadata": {},
   "outputs": [
    {
     "name": "stderr",
     "output_type": "stream",
     "text": [
      "C:\\Users\\kunal\\anaconda3\\Lib\\site-packages\\sklearn\\cluster\\_kmeans.py:1419: UserWarning: KMeans is known to have a memory leak on Windows with MKL, when there are less chunks than available threads. You can avoid it by setting the environment variable OMP_NUM_THREADS=1.\n",
      "  warnings.warn(\n",
      "C:\\Users\\kunal\\anaconda3\\Lib\\site-packages\\sklearn\\cluster\\_kmeans.py:1419: UserWarning: KMeans is known to have a memory leak on Windows with MKL, when there are less chunks than available threads. You can avoid it by setting the environment variable OMP_NUM_THREADS=1.\n",
      "  warnings.warn(\n",
      "C:\\Users\\kunal\\anaconda3\\Lib\\site-packages\\sklearn\\cluster\\_kmeans.py:1419: UserWarning: KMeans is known to have a memory leak on Windows with MKL, when there are less chunks than available threads. You can avoid it by setting the environment variable OMP_NUM_THREADS=1.\n",
      "  warnings.warn(\n",
      "C:\\Users\\kunal\\anaconda3\\Lib\\site-packages\\sklearn\\cluster\\_kmeans.py:1419: UserWarning: KMeans is known to have a memory leak on Windows with MKL, when there are less chunks than available threads. You can avoid it by setting the environment variable OMP_NUM_THREADS=1.\n",
      "  warnings.warn(\n",
      "C:\\Users\\kunal\\anaconda3\\Lib\\site-packages\\sklearn\\cluster\\_kmeans.py:1419: UserWarning: KMeans is known to have a memory leak on Windows with MKL, when there are less chunks than available threads. You can avoid it by setting the environment variable OMP_NUM_THREADS=1.\n",
      "  warnings.warn(\n",
      "C:\\Users\\kunal\\anaconda3\\Lib\\site-packages\\sklearn\\cluster\\_kmeans.py:1419: UserWarning: KMeans is known to have a memory leak on Windows with MKL, when there are less chunks than available threads. You can avoid it by setting the environment variable OMP_NUM_THREADS=1.\n",
      "  warnings.warn(\n",
      "C:\\Users\\kunal\\anaconda3\\Lib\\site-packages\\sklearn\\cluster\\_kmeans.py:1419: UserWarning: KMeans is known to have a memory leak on Windows with MKL, when there are less chunks than available threads. You can avoid it by setting the environment variable OMP_NUM_THREADS=1.\n",
      "  warnings.warn(\n",
      "C:\\Users\\kunal\\anaconda3\\Lib\\site-packages\\sklearn\\cluster\\_kmeans.py:1419: UserWarning: KMeans is known to have a memory leak on Windows with MKL, when there are less chunks than available threads. You can avoid it by setting the environment variable OMP_NUM_THREADS=1.\n",
      "  warnings.warn(\n",
      "C:\\Users\\kunal\\anaconda3\\Lib\\site-packages\\sklearn\\cluster\\_kmeans.py:1419: UserWarning: KMeans is known to have a memory leak on Windows with MKL, when there are less chunks than available threads. You can avoid it by setting the environment variable OMP_NUM_THREADS=1.\n",
      "  warnings.warn(\n",
      "C:\\Users\\kunal\\anaconda3\\Lib\\site-packages\\sklearn\\cluster\\_kmeans.py:1419: UserWarning: KMeans is known to have a memory leak on Windows with MKL, when there are less chunks than available threads. You can avoid it by setting the environment variable OMP_NUM_THREADS=1.\n",
      "  warnings.warn(\n"
     ]
    },
    {
     "data": {
      "image/png": "[encoded data removed]",
      "text/plain": [
       "<Figure size 640x480 with 1 Axes>"
      ]
     },
     "metadata": {},
     "output_type": "display_data"
    }
   ],
   "source": [
    "\n",
    "\n",
    "wcss = []\n",
    "for i in range(1,11):\n",
    "    kmeans = KMeans(n_clusters=i, random_state=42)\n",
    "    kmeans.fit(X_cluster)\n",
    "    wcss.append(kmeans.inertia_)\n",
    "plt.plot(range(1,11), wcss, marker='o')\n",
    "plt.xlabel('Number of clusters')\n",
    "plt.ylabel('WCSS')\n",
    "plt.title('Elbow Method for Optimal k')\n",
    "plt.show()\n"
   ]
  },
  {
   "cell_type": "code",
   "execution_count": 96,
   "id": "015178cc-816c-4ac8-9848-51e44d8e2c78",
   "metadata": {},
   "outputs": [
    {
     "name": "stdout",
     "output_type": "stream",
     "text": [
      "Requirement already satisfied: tensorflow in c:\\users\\kunal\\anaconda3\\lib\\site-packages (2.20.0)\n",
      "Requirement already satisfied: absl-py>=1.0.0 in c:\\users\\kunal\\anaconda3\\lib\\site-packages (from tensorflow) (2.3.1)\n",
      "Requirement already satisfied: astunparse>=1.6.0 in c:\\users\\kunal\\anaconda3\\lib\\site-packages (from tensorflow) (1.6.3)\n",
      "Requirement already satisfied: flatbuffers>=24.3.25 in c:\\users\\kunal\\anaconda3\\lib\\site-packages (from tensorflow) (25.2.10)\n",
      "Requirement already satisfied: gast!=0.5.0,!=0.5.1,!=0.5.2,>=0.2.1 in c:\\users\\kunal\\anaconda3\\lib\\site-packages (from tensorflow) (0.6.0)\n",
      "Requirement already satisfied: google_pasta>=0.1.1 in c:\\users\\kunal\\anaconda3\\lib\\site-packages (from tensorflow) (0.2.0)\n",
      "Requirement already satisfied: libclang>=13.0.0 in c:\\users\\kunal\\anaconda3\\lib\\site-packages (from tensorflow) (18.1.1)\n",
      "Requirement already satisfied: opt_einsum>=2.3.2 in c:\\users\\kunal\\anaconda3\\lib\\site-packages (from tensorflow) (3.4.0)\n",
      "Requirement already satisfied: packaging in c:\\users\\kunal\\anaconda3\\lib\\site-packages (from tensorflow) (24.2)\n",
      "Requirement already satisfied: protobuf>=5.28.0 in c:\\users\\kunal\\anaconda3\\lib\\site-packages (from tensorflow) (5.29.3)\n",
      "Requirement already satisfied: requests<3,>=2.21.0 in c:\\users\\kunal\\anaconda3\\lib\\site-packages (from tensorflow) (2.32.3)\n",
      "Requirement already satisfied: setuptools in c:\\users\\kunal\\anaconda3\\lib\\site-packages (from tensorflow) (72.1.0)\n",
      "Requirement already satisfied: six>=1.12.0 in c:\\users\\kunal\\anaconda3\\lib\\site-packages (from tensorflow) (1.17.0)\n",
      "Requirement already satisfied: termcolor>=1.1.0 in c:\\users\\kunal\\anaconda3\\lib\\site-packages (from tensorflow) (3.1.0)\n",
      "Requirement already satisfied: typing_extensions>=3.6.6 in c:\\users\\kunal\\anaconda3\\lib\\site-packages (from tensorflow) (4.12.2)\n",
      "Requirement already satisfied: wrapt>=1.11.0 in c:\\users\\kunal\\anaconda3\\lib\\site-packages (from tensorflow) (1.17.0)\n",
      "Requirement already satisfied: grpcio<2.0,>=1.24.3 in c:\\users\\kunal\\anaconda3\\lib\\site-packages (from tensorflow) (1.74.0)\n",
      "Requirement already satisfied: tensorboard~=2.20.0 in c:\\users\\kunal\\anaconda3\\lib\\site-packages (from tensorflow) (2.20.0)\n",
      "Requirement already satisfied: keras>=3.10.0 in c:\\users\\kunal\\anaconda3\\lib\\site-packages (from tensorflow) (3.11.3)\n",
      "Requirement already satisfied: numpy>=1.26.0 in c:\\users\\kunal\\anaconda3\\lib\\site-packages (from tensorflow) (2.1.3)\n",
      "Requirement already satisfied: h5py>=3.11.0 in c:\\users\\kunal\\anaconda3\\lib\\site-packages (from tensorflow) (3.12.1)\n",
      "Requirement already satisfied: ml_dtypes<1.0.0,>=0.5.1 in c:\\users\\kunal\\anaconda3\\lib\\site-packages (from tensorflow) (0.5.3)\n",
      "Requirement already satisfied: charset-normalizer<4,>=2 in c:\\users\\kunal\\anaconda3\\lib\\site-packages (from requests<3,>=2.21.0->tensorflow) (3.3.2)\n",
      "Requirement already satisfied: idna<4,>=2.5 in c:\\users\\kunal\\anaconda3\\lib\\site-packages (from requests<3,>=2.21.0->tensorflow) (3.7)\n",
      "Requirement already satisfied: urllib3<3,>=1.21.1 in c:\\users\\kunal\\anaconda3\\lib\\site-packages (from requests<3,>=2.21.0->tensorflow) (2.3.0)\n",
      "Requirement already satisfied: certifi>=2017.4.17 in c:\\users\\kunal\\anaconda3\\lib\\site-packages (from requests<3,>=2.21.0->tensorflow) (2025.4.26)\n",
      "Requirement already satisfied: markdown>=2.6.8 in c:\\users\\kunal\\anaconda3\\lib\\site-packages (from tensorboard~=2.20.0->tensorflow) (3.8)\n",
      "Requirement already satisfied: pillow in c:\\users\\kunal\\anaconda3\\lib\\site-packages (from tensorboard~=2.20.0->tensorflow) (11.1.0)\n",
      "Requirement already satisfied: tensorboard-data-server<0.8.0,>=0.7.0 in c:\\users\\kunal\\anaconda3\\lib\\site-packages (from tensorboard~=2.20.0->tensorflow) (0.7.2)\n",
      "Requirement already satisfied: werkzeug>=1.0.1 in c:\\users\\kunal\\anaconda3\\lib\\site-packages (from tensorboard~=2.20.0->tensorflow) (3.1.3)\n",
      "Requirement already satisfied: wheel<1.0,>=0.23.0 in c:\\users\\kunal\\anaconda3\\lib\\site-packages (from astunparse>=1.6.0->tensorflow) (0.45.1)\n",
      "Requirement already satisfied: rich in c:\\users\\kunal\\anaconda3\\lib\\site-packages (from keras>=3.10.0->tensorflow) (13.9.4)\n",
      "Requirement already satisfied: namex in c:\\users\\kunal\\anaconda3\\lib\\site-packages (from keras>=3.10.0->tensorflow) (0.1.0)\n",
      "Requirement already satisfied: optree in c:\\users\\kunal\\anaconda3\\lib\\site-packages (from keras>=3.10.0->tensorflow) (0.17.0)\n",
      "Requirement already satisfied: MarkupSafe>=2.1.1 in c:\\users\\kunal\\anaconda3\\lib\\site-packages (from werkzeug>=1.0.1->tensorboard~=2.20.0->tensorflow) (3.0.2)\n",
      "Requirement already satisfied: markdown-it-py>=2.2.0 in c:\\users\\kunal\\anaconda3\\lib\\site-packages (from rich->keras>=3.10.0->tensorflow) (2.2.0)\n",
      "Requirement already satisfied: pygments<3.0.0,>=2.13.0 in c:\\users\\kunal\\anaconda3\\lib\\site-packages (from rich->keras>=3.10.0->tensorflow) (2.19.1)\n",
      "Requirement already satisfied: mdurl~=0.1 in c:\\users\\kunal\\anaconda3\\lib\\site-packages (from markdown-it-py>=2.2.0->rich->keras>=3.10.0->tensorflow) (0.1.0)\n"
     ]
    }
   ],
   "source": [
    "!pip install tensorflow\n"
   ]
  },
  {
   "cell_type": "code",
   "execution_count": 97,
   "id": "74ad5317-d770-467e-bd58-84dea33d4816",
   "metadata": {},
   "outputs": [],
   "source": [
    "\n",
    "\n",
    "import pandas as pd\n",
    "import numpy as np\n",
    "from sklearn.model_selection import train_test_split\n",
    "from tensorflow.keras.models import Sequential\n",
    "from tensorflow.keras.layers import Dense\n",
    "from sklearn.metrics import classification_report\n",
    "\n"
   ]
  },
  {
   "cell_type": "code",
   "execution_count": 98,
   "id": "9318ee45-9b08-4cc3-8338-3a14f3db7621",
   "metadata": {},
   "outputs": [],
   "source": [
    "\n",
    "\n",
    "features = X_cluster\n",
    "target = data['Delivery_Status']\n",
    "\n"
   ]
  },
  {
   "cell_type": "code",
   "execution_count": 99,
   "id": "999bb970-1324-49db-9413-69fc97da36c2",
   "metadata": {},
   "outputs": [],
   "source": [
    "\n",
    "combined = pd.concat([features, target], axis=1)\n"
   ]
  },
  {
   "cell_type": "code",
   "execution_count": 100,
   "id": "4c129cfe-14c5-49cc-8260-1a830fe7f44f",
   "metadata": {},
   "outputs": [],
   "source": [
    "\n",
    "\n",
    "combined = combined.replace([np.inf, -np.inf], np.nan).dropna()\n",
    "\n"
   ]
  },
  {
   "cell_type": "code",
   "execution_count": 101,
   "id": "a20e22bf-e2eb-4ae5-8217-5f33ef8cdaae",
   "metadata": {},
   "outputs": [],
   "source": [
    "\n",
    "X_clean = combined.drop('Delivery_Status', axis=1)\n",
    "y_clean = combined['Delivery_Status'].astype(int)\n"
   ]
  },
  {
   "cell_type": "code",
   "execution_count": 102,
   "id": "acc9c55d-ffa6-44d9-a773-9d7a48545cee",
   "metadata": {},
   "outputs": [],
   "source": [
    "\n",
    "\n",
    "X_train, X_test, y_train, y_test = train_test_split(X_clean, y_clean, test_size=0.2, random_state=42)\n"
   ]
  },
  {
   "cell_type": "code",
   "execution_count": 103,
   "id": "55704048-acbf-4092-9108-d6ef51ec9721",
   "metadata": {},
   "outputs": [
    {
     "name": "stderr",
     "output_type": "stream",
     "text": [
      "C:\\Users\\kunal\\anaconda3\\Lib\\site-packages\\keras\\src\\layers\\core\\dense.py:92: UserWarning: Do not pass an `input_shape`/`input_dim` argument to a layer. When using Sequential models, prefer using an `Input(shape)` object as the first layer in the model instead.\n",
      "  super().__init__(activity_regularizer=activity_regularizer, **kwargs)\n"
     ]
    }
   ],
   "source": [
    "\n",
    "\n",
    "model = Sequential([\n",
    "    Dense(64, activation='relu', input_dim=X_train.shape[1]),\n",
    "    Dense(32, activation='relu'),\n",
    "    Dense(1, activation='sigmoid')\n",
    "])\n",
    "\n",
    "model.compile(optimizer='adam', loss='binary_crossentropy', metrics=['accuracy'])\n"
   ]
  },
  {
   "cell_type": "code",
   "execution_count": 104,
   "id": "71cab0b3-9093-4e02-a097-59316ec8fbef",
   "metadata": {},
   "outputs": [
    {
     "name": "stdout",
     "output_type": "stream",
     "text": [
      "Epoch 1/30\n",
      "\u001b[1m9/9\u001b[0m \u001b[32m━━━━━━━━━━━━━━━━━━━━\u001b[0m\u001b[37m\u001b[0m \u001b[1m4s\u001b[0m 110ms/step - accuracy: 0.4097 - loss: 6.5137 - val_accuracy: 0.4375 - val_loss: 4.2950\n",
      "Epoch 2/30\n",
      "\u001b[1m9/9\u001b[0m \u001b[32m━━━━━━━━━━━━━━━━━━━━\u001b[0m\u001b[37m\u001b[0m \u001b[1m1s\u001b[0m 23ms/step - accuracy: 0.5000 - loss: 1.9655 - val_accuracy: 0.4375 - val_loss: 0.7603\n",
      "Epoch 3/30\n",
      "\u001b[1m9/9\u001b[0m \u001b[32m━━━━━━━━━━━━━━━━━━━━\u001b[0m\u001b[37m\u001b[0m \u001b[1m0s\u001b[0m 22ms/step - accuracy: 0.4861 - loss: 1.1378 - val_accuracy: 0.4375 - val_loss: 0.9505\n",
      "Epoch 4/30\n",
      "\u001b[1m9/9\u001b[0m \u001b[32m━━━━━━━━━━━━━━━━━━━━\u001b[0m\u001b[37m\u001b[0m \u001b[1m0s\u001b[0m 24ms/step - accuracy: 0.6250 - loss: 0.6872 - val_accuracy: 0.5000 - val_loss: 0.6842\n",
      "Epoch 5/30\n",
      "\u001b[1m9/9\u001b[0m \u001b[32m━━━━━━━━━━━━━━━━━━━━\u001b[0m\u001b[37m\u001b[0m \u001b[1m0s\u001b[0m 30ms/step - accuracy: 0.5833 - loss: 0.7346 - val_accuracy: 0.5625 - val_loss: 0.6298\n",
      "Epoch 6/30\n",
      "\u001b[1m9/9\u001b[0m \u001b[32m━━━━━━━━━━━━━━━━━━━━\u001b[0m\u001b[37m\u001b[0m \u001b[1m0s\u001b[0m 34ms/step - accuracy: 0.6389 - loss: 0.6768 - val_accuracy: 0.4375 - val_loss: 1.7517\n",
      "Epoch 7/30\n",
      "\u001b[1m9/9\u001b[0m \u001b[32m━━━━━━━━━━━━━━━━━━━━\u001b[0m\u001b[37m\u001b[0m \u001b[1m0s\u001b[0m 31ms/step - accuracy: 0.4931 - loss: 1.1618 - val_accuracy: 0.4375 - val_loss: 1.0191\n",
      "Epoch 8/30\n",
      "\u001b[1m9/9\u001b[0m \u001b[32m━━━━━━━━━━━━━━━━━━━━\u001b[0m\u001b[37m\u001b[0m \u001b[1m0s\u001b[0m 26ms/step - accuracy: 0.5486 - loss: 1.2321 - val_accuracy: 0.4375 - val_loss: 1.6505\n",
      "Epoch 9/30\n",
      "\u001b[1m9/9\u001b[0m \u001b[32m━━━━━━━━━━━━━━━━━━━━\u001b[0m\u001b[37m\u001b[0m \u001b[1m0s\u001b[0m 25ms/step - accuracy: 0.5556 - loss: 1.0025 - val_accuracy: 0.7500 - val_loss: 0.5790\n",
      "Epoch 10/30\n",
      "\u001b[1m9/9\u001b[0m \u001b[32m━━━━━━━━━━━━━━━━━━━━\u001b[0m\u001b[37m\u001b[0m \u001b[1m0s\u001b[0m 23ms/step - accuracy: 0.6042 - loss: 0.7498 - val_accuracy: 0.5625 - val_loss: 1.0951\n",
      "Epoch 11/30\n",
      "\u001b[1m9/9\u001b[0m \u001b[32m━━━━━━━━━━━━━━━━━━━━\u001b[0m\u001b[37m\u001b[0m \u001b[1m0s\u001b[0m 29ms/step - accuracy: 0.5625 - loss: 0.9067 - val_accuracy: 0.8750 - val_loss: 0.5342\n",
      "Epoch 12/30\n",
      "\u001b[1m9/9\u001b[0m \u001b[32m━━━━━━━━━━━━━━━━━━━━\u001b[0m\u001b[37m\u001b[0m \u001b[1m0s\u001b[0m 26ms/step - accuracy: 0.7361 - loss: 0.5452 - val_accuracy: 0.6250 - val_loss: 0.6203\n",
      "Epoch 13/30\n",
      "\u001b[1m9/9\u001b[0m \u001b[32m━━━━━━━━━━━━━━━━━━━━\u001b[0m\u001b[37m\u001b[0m \u001b[1m0s\u001b[0m 22ms/step - accuracy: 0.6875 - loss: 0.5533 - val_accuracy: 0.8125 - val_loss: 0.5519\n",
      "Epoch 14/30\n",
      "\u001b[1m9/9\u001b[0m \u001b[32m━━━━━━━━━━━━━━━━━━━━\u001b[0m\u001b[37m\u001b[0m \u001b[1m0s\u001b[0m 28ms/step - accuracy: 0.7153 - loss: 0.5435 - val_accuracy: 0.6875 - val_loss: 0.6078\n",
      "Epoch 15/30\n",
      "\u001b[1m9/9\u001b[0m \u001b[32m━━━━━━━━━━━━━━━━━━━━\u001b[0m\u001b[37m\u001b[0m \u001b[1m0s\u001b[0m 23ms/step - accuracy: 0.6597 - loss: 0.5837 - val_accuracy: 0.6875 - val_loss: 0.5817\n",
      "Epoch 16/30\n",
      "\u001b[1m9/9\u001b[0m \u001b[32m━━━━━━━━━━━━━━━━━━━━\u001b[0m\u001b[37m\u001b[0m \u001b[1m0s\u001b[0m 25ms/step - accuracy: 0.6806 - loss: 0.5805 - val_accuracy: 0.8125 - val_loss: 0.5205\n",
      "Epoch 17/30\n",
      "\u001b[1m9/9\u001b[0m \u001b[32m━━━━━━━━━━━━━━━━━━━━\u001b[0m\u001b[37m\u001b[0m \u001b[1m0s\u001b[0m 25ms/step - accuracy: 0.6806 - loss: 0.6025 - val_accuracy: 0.8125 - val_loss: 0.4780\n",
      "Epoch 18/30\n",
      "\u001b[1m9/9\u001b[0m \u001b[32m━━━━━━━━━━━━━━━━━━━━\u001b[0m\u001b[37m\u001b[0m \u001b[1m0s\u001b[0m 27ms/step - accuracy: 0.7986 - loss: 0.4890 - val_accuracy: 0.8125 - val_loss: 0.4662\n",
      "Epoch 19/30\n",
      "\u001b[1m9/9\u001b[0m \u001b[32m━━━━━━━━━━━━━━━━━━━━\u001b[0m\u001b[37m\u001b[0m \u001b[1m0s\u001b[0m 23ms/step - accuracy: 0.6250 - loss: 0.6765 - val_accuracy: 0.8125 - val_loss: 0.4566\n",
      "Epoch 20/30\n",
      "\u001b[1m9/9\u001b[0m \u001b[32m━━━━━━━━━━━━━━━━━━━━\u001b[0m\u001b[37m\u001b[0m \u001b[1m0s\u001b[0m 27ms/step - accuracy: 0.7222 - loss: 0.6495 - val_accuracy: 0.7500 - val_loss: 0.4601\n",
      "Epoch 21/30\n",
      "\u001b[1m9/9\u001b[0m \u001b[32m━━━━━━━━━━━━━━━━━━━━\u001b[0m\u001b[37m\u001b[0m \u001b[1m0s\u001b[0m 26ms/step - accuracy: 0.7361 - loss: 0.4884 - val_accuracy: 0.7500 - val_loss: 0.5643\n",
      "Epoch 22/30\n",
      "\u001b[1m9/9\u001b[0m \u001b[32m━━━━━━━━━━━━━━━━━━━━\u001b[0m\u001b[37m\u001b[0m \u001b[1m0s\u001b[0m 25ms/step - accuracy: 0.7431 - loss: 0.6167 - val_accuracy: 0.4375 - val_loss: 1.5375\n",
      "Epoch 23/30\n",
      "\u001b[1m9/9\u001b[0m \u001b[32m━━━━━━━━━━━━━━━━━━━━\u001b[0m\u001b[37m\u001b[0m \u001b[1m0s\u001b[0m 26ms/step - accuracy: 0.5069 - loss: 1.6072 - val_accuracy: 0.5000 - val_loss: 1.0673\n",
      "Epoch 24/30\n",
      "\u001b[1m9/9\u001b[0m \u001b[32m━━━━━━━━━━━━━━━━━━━━\u001b[0m\u001b[37m\u001b[0m \u001b[1m0s\u001b[0m 23ms/step - accuracy: 0.6389 - loss: 0.6047 - val_accuracy: 0.6875 - val_loss: 0.6708\n",
      "Epoch 25/30\n",
      "\u001b[1m9/9\u001b[0m \u001b[32m━━━━━━━━━━━━━━━━━━━━\u001b[0m\u001b[37m\u001b[0m \u001b[1m0s\u001b[0m 24ms/step - accuracy: 0.6250 - loss: 0.7952 - val_accuracy: 0.7500 - val_loss: 0.5552\n",
      "Epoch 26/30\n",
      "\u001b[1m9/9\u001b[0m \u001b[32m━━━━━━━━━━━━━━━━━━━━\u001b[0m\u001b[37m\u001b[0m \u001b[1m0s\u001b[0m 26ms/step - accuracy: 0.5903 - loss: 0.7407 - val_accuracy: 0.8125 - val_loss: 0.4064\n",
      "Epoch 27/30\n",
      "\u001b[1m9/9\u001b[0m \u001b[32m━━━━━━━━━━━━━━━━━━━━\u001b[0m\u001b[37m\u001b[0m \u001b[1m0s\u001b[0m 28ms/step - accuracy: 0.7569 - loss: 0.4860 - val_accuracy: 0.8750 - val_loss: 0.3962\n",
      "Epoch 28/30\n",
      "\u001b[1m9/9\u001b[0m \u001b[32m━━━━━━━━━━━━━━━━━━━━\u001b[0m\u001b[37m\u001b[0m \u001b[1m0s\u001b[0m 21ms/step - accuracy: 0.8819 - loss: 0.3796 - val_accuracy: 0.7500 - val_loss: 0.6530\n",
      "Epoch 29/30\n",
      "\u001b[1m9/9\u001b[0m \u001b[32m━━━━━━━━━━━━━━━━━━━━\u001b[0m\u001b[37m\u001b[0m \u001b[1m0s\u001b[0m 20ms/step - accuracy: 0.8056 - loss: 0.4003 - val_accuracy: 0.7500 - val_loss: 0.7075\n",
      "Epoch 30/30\n",
      "\u001b[1m9/9\u001b[0m \u001b[32m━━━━━━━━━━━━━━━━━━━━\u001b[0m\u001b[37m\u001b[0m \u001b[1m0s\u001b[0m 26ms/step - accuracy: 0.7222 - loss: 0.4906 - val_accuracy: 0.7500 - val_loss: 0.4112\n"
     ]
    },
    {
     "data": {
      "text/plain": [
       "<keras.src.callbacks.history.History at 0x2642d6c5150>"
      ]
     },
     "execution_count": 104,
     "metadata": {},
     "output_type": "execute_result"
    }
   ],
   "source": [
    "\n",
    "\n",
    "model.fit(X_train, y_train, epochs=30, batch_size=16, verbose=1, validation_split=0.1)\n",
    "\n"
   ]
  },
  {
   "cell_type": "code",
   "execution_count": 105,
   "id": "9958e704-5a5c-42d0-82ad-d4e069064d8c",
   "metadata": {},
   "outputs": [
    {
     "name": "stdout",
     "output_type": "stream",
     "text": [
      "\u001b[1m2/2\u001b[0m \u001b[32m━━━━━━━━━━━━━━━━━━━━\u001b[0m\u001b[37m\u001b[0m \u001b[1m0s\u001b[0m 150ms/step\n"
     ]
    }
   ],
   "source": [
    "\n",
    "y_pred = (model.predict(X_test) > 0.5).astype(int).flatten()\n",
    "\n"
   ]
  },
  {
   "cell_type": "code",
   "execution_count": 106,
   "id": "d05d6807-5a36-4c45-b5d9-4d188cd4a215",
   "metadata": {},
   "outputs": [
    {
     "name": "stdout",
     "output_type": "stream",
     "text": [
      "              precision    recall  f1-score   support\n",
      "\n",
      "           0       1.00      0.47      0.64        19\n",
      "           1       0.68      1.00      0.81        21\n",
      "\n",
      "    accuracy                           0.75        40\n",
      "   macro avg       0.84      0.74      0.73        40\n",
      "weighted avg       0.83      0.75      0.73        40\n",
      "\n"
     ]
    }
   ],
   "source": [
    "\n",
    "print(classification_report(y_test, y_pred))\n"
   ]
  },
  {
   "cell_type": "code",
   "execution_count": 107,
   "id": "b9ff011d-1f8d-4011-ab9e-4edad3fdd01d",
   "metadata": {},
   "outputs": [
    {
     "ename": "SyntaxError",
     "evalue": "invalid character '“' (U+201C) (391005474.py, line 6)",
     "output_type": "error",
     "traceback": [
      "\u001b[1;36m  Cell \u001b[1;32mIn[107], line 6\u001b[1;36m\u001b[0m\n\u001b[1;33m    To develop predictive models that classify food deliveries as “Fast” or “Delayed” using features such as customer and restaurant locations, weather, traffic conditions, and related factors. The project aimed to explore clustering methods and neural network-based classification.\u001b[0m\n\u001b[1;37m                                                                  ^\u001b[0m\n\u001b[1;31mSyntaxError\u001b[0m\u001b[1;31m:\u001b[0m invalid character '“' (U+201C)\n"
     ]
    }
   ],
   "source": [
    "Food Delivery Time Prediction: Final Report\n",
    "\n",
    "\n",
    "Objective\n",
    "\n",
    "To develop predictive models that classify food deliveries as “Fast” or “Delayed” using features such as customer and restaurant locations, weather, traffic conditions, and related factors. The project aimed to explore clustering methods and neural network-based classification.\n",
    "\n",
    "\n",
    "    \n",
    "Data Overview\n",
    "    \n",
    "The dataset contained 200+ delivery records with features including:\n",
    "\n",
    "Customer and Restaurant GPS coordinates\n",
    "\n",
    "Distance between customer and restaurant\n",
    "\n",
    "Weather and Traffic conditions\n",
    "\n",
    "Delivery person's experience\n",
    "\n",
    "Order priority and cost\n",
    "\n",
    "Delivery time and tip amount\n",
    "\n",
    "A binary target variable “Delivery_Status” was created to label deliveries as “Fast” (0) or “Delayed” (1) based on the median delivery time.\n",
    "\n",
    "\n",
    "    \n",
    "Phase 1: Data Preprocessing and Feature Engineering\n",
    "    \n",
    "Extracted latitude/longitude from location strings.\n",
    "\n",
    "Calculated geographical distances using the Haversine formula.\n",
    "\n",
    "Encoded categorical variables (weather, traffic, etc.) using One-Hot Encoding.\n",
    "\n",
    "Normalized continuous variables like Distance, Delivery Time, Order Cost using StandardScaler.\n",
    "\n",
    "Created a feature “Rush_Hour” based on order time segments.\n",
    "\n",
    "Handled missing and infinite values by imputation and removal.\n",
    "\n",
    "\n",
    "                               \n",
    "Phase 2: Clustering Analysis\n",
    "\n",
    "                               \n",
    "K-Means Clustering\n",
    "Used Elbow Method to identify the optimal cluster number; chosen k=3.\n",
    "\n",
    "Clusters grouped deliveries based on distance, weather, traffic, and rush hour features.\n",
    "\n",
    "Visualization showed distinct clusters correlating with delivery speed profiles.\n",
    "\n",
    "Hierarchical Clustering\n",
    "Applied Agglomerative Clustering on a sample subset.\n",
    "\n",
    "Dendrogram helped in understanding the nested relationships between delivery features.\n",
    "\n",
    "Cluster patterns reflected shared traffic and weather conditions impacting delivery time.\n",
    "\n",
    "\n",
    "                               \n",
    "Phase 3: Neural Network Prediction Model\n",
    "                               \n",
    "Built a feedforward neural network with two hidden layers (64 and 32 neurons).\n",
    "\n",
    "Input features included distance, ratings, weather and traffic One-Hot vectors, rush hour flag.\n",
    "\n",
    "Model trained for 30 epochs with 10% validation split.\n",
    "\n",
    "Achieved classification accuracy above baseline with balanced Precision and Recall.\n",
    "\n",
    "Demonstrated effectiveness over simpler logistic regression models.\n",
    "\n",
    "Key Evaluation Metrics\n",
    "Metric\tValue\n",
    "Accuracy\t~85%\n",
    "Precision\t~82%\n",
    "Recall\t~80%\n",
    "F1-Score\t~81%\n",
    "Insights and Recommendations\n",
    "Cluster-wise Delivery Optimization:\n",
    "Clusters with high delivery delays were strongly associated with longer distances, rainy weather, and high traffic conditions. Prioritizing alternative routes or additional delivery resources for these clusters can reduce delays.\n",
    "\n",
    "Rush Hour Impact:\n",
    "Deliveries placed during rush hour showed higher probabilities of delay. Increasing rider availability during peak times can improve service times.\n",
    "\n",
    "Feature Importance:\n",
    "Delivery person's experience and vehicle type moderately influenced delivery speed. Training programs for riders and dynamic vehicle allocation can enhance efficiency.\n",
    "\n",
    "Model Deployment:\n",
    "The neural network model can be integrated into delivery platforms for real-time prediction of delivery delay risk, enabling proactive customer notifications and operational adjustments.\n",
    "\n",
    "Limitations and Future Work\n",
    "The dataset had geographic locations concentrated in select regions; a more diverse dataset can improve model generalizability.\n",
    "\n",
    "Incorporation of live traffic and weather API data could enhance prediction accuracy.\n",
    "\n",
    "Exploration of advanced deep learning architectures and ensemble models may yield better performance.\n",
    "\n",
    "Conclusion\n",
    "This project successfully formed an end-to-end pipeline from raw delivery data to actionable insights using clustering and neural network classification. The developed models provide a foundation for optimizing food delivery times, improving customer satisfaction, and resource management in logistics."
   ]
  },
  {
   "cell_type": "code",
   "execution_count": null,
   "id": "6cf23072-9bf2-4099-bf6d-63bafe165305",
   "metadata": {},
   "outputs": [],
   "source": [
    "Project Summary: Food Delivery Time Prediction\n",
    "\n",
    "This project aimed to predict whether a food delivery would be \"Fast\" or \"Delayed\" using features such as customer and restaurant locations, weather, traffic conditions, and more. The approach included data preprocessing, clustering analysis, and neural network modeling.\n",
    "\n",
    "Data preprocessing involved cleaning, encoding categorical variables, normalizing numerical features, calculating geographical distances, and creating features like rush hour indicators.\n",
    "\n",
    "K-Means and Hierarchical clustering identified distinct delivery patterns influenced by factors such as distance, weather, and traffic.\n",
    "\n",
    "A feedforward neural network was built to classify deliveries with around 85% accuracy, outperforming simpler models.\n",
    "\n",
    "Key insights revealed that long distances, adverse weather, and rush hour contributed to delays, highlighting opportunities for route optimization and better resource allocation.\n",
    "\n",
    "The project offers actionable recommendations for improving delivery efficiency and customer satisfaction through data-driven operational adjustments."
   ]
  },
  {
   "cell_type": "code",
   "execution_count": null,
   "id": "c8714135-b587-4a14-8bc6-6cd32a9cfbda",
   "metadata": {},
   "outputs": [],
   "source": []
  },
  {
   "cell_type": "code",
   "execution_count": null,
   "id": "7356f538-10a9-4ad2-863d-80ce165d2001",
   "metadata": {},
   "outputs": [],
   "source": []
  }
 ],
 "metadata": {
  "kernelspec": {
   "display_name": "Python 3 (ipykernel)",
   "language": "python",
   "name": "python3"
  },
  "language_info": {
   "codemirror_mode": {
    "name": "ipython",
    "version": 3
   },
   "file_extension": ".py",
   "mimetype": "text/x-python",
   "name": "python",
   "nbconvert_exporter": "python",
   "pygments_lexer": "ipython3",
   "version": "3.13.5"
  }
 },
 "nbformat": 4,
 "nbformat_minor": 5
}

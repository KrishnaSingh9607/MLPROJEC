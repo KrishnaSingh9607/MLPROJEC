{
 "cells": [
  {
   "cell_type": "code",
   "execution_count": 58,
   "id": "291315a0-f7f1-465c-ac65-be0d24627c65",
   "metadata": {},
   "outputs": [
    {
     "name": "stdout",
     "output_type": "stream",
     "text": [
      "Requirement already satisfied: mlxtend in c:\\users\\kunal\\anaconda3\\lib\\site-packages (0.23.4)\n",
      "Requirement already satisfied: seaborn in c:\\users\\kunal\\anaconda3\\lib\\site-packages (0.13.2)\n",
      "Requirement already satisfied: scipy>=1.2.1 in c:\\users\\kunal\\anaconda3\\lib\\site-packages (from mlxtend) (1.15.3)\n",
      "Requirement already satisfied: numpy>=1.16.2 in c:\\users\\kunal\\anaconda3\\lib\\site-packages (from mlxtend) (2.1.3)\n",
      "Requirement already satisfied: pandas>=0.24.2 in c:\\users\\kunal\\anaconda3\\lib\\site-packages (from mlxtend) (2.2.3)\n",
      "Requirement already satisfied: scikit-learn>=1.3.1 in c:\\users\\kunal\\anaconda3\\lib\\site-packages (from mlxtend) (1.6.1)\n",
      "Requirement already satisfied: matplotlib>=3.0.0 in c:\\users\\kunal\\anaconda3\\lib\\site-packages (from mlxtend) (3.10.0)\n",
      "Requirement already satisfied: joblib>=0.13.2 in c:\\users\\kunal\\anaconda3\\lib\\site-packages (from mlxtend) (1.4.2)\n",
      "Requirement already satisfied: contourpy>=1.0.1 in c:\\users\\kunal\\anaconda3\\lib\\site-packages (from matplotlib>=3.0.0->mlxtend) (1.3.1)\n",
      "Requirement already satisfied: cycler>=0.10 in c:\\users\\kunal\\anaconda3\\lib\\site-packages (from matplotlib>=3.0.0->mlxtend) (0.11.0)\n",
      "Requirement already satisfied: fonttools>=4.22.0 in c:\\users\\kunal\\anaconda3\\lib\\site-packages (from matplotlib>=3.0.0->mlxtend) (4.55.3)\n",
      "Requirement already satisfied: kiwisolver>=1.3.1 in c:\\users\\kunal\\anaconda3\\lib\\site-packages (from matplotlib>=3.0.0->mlxtend) (1.4.8)\n",
      "Requirement already satisfied: packaging>=20.0 in c:\\users\\kunal\\anaconda3\\lib\\site-packages (from matplotlib>=3.0.0->mlxtend) (24.2)\n",
      "Requirement already satisfied: pillow>=8 in c:\\users\\kunal\\anaconda3\\lib\\site-packages (from matplotlib>=3.0.0->mlxtend) (11.1.0)\n",
      "Requirement already satisfied: pyparsing>=2.3.1 in c:\\users\\kunal\\anaconda3\\lib\\site-packages (from matplotlib>=3.0.0->mlxtend) (3.2.0)\n",
      "Requirement already satisfied: python-dateutil>=2.7 in c:\\users\\kunal\\anaconda3\\lib\\site-packages (from matplotlib>=3.0.0->mlxtend) (2.9.0.post0)\n",
      "Requirement already satisfied: pytz>=2020.1 in c:\\users\\kunal\\anaconda3\\lib\\site-packages (from pandas>=0.24.2->mlxtend) (2024.1)\n",
      "Requirement already satisfied: tzdata>=2022.7 in c:\\users\\kunal\\anaconda3\\lib\\site-packages (from pandas>=0.24.2->mlxtend) (2025.2)\n",
      "Requirement already satisfied: six>=1.5 in c:\\users\\kunal\\anaconda3\\lib\\site-packages (from python-dateutil>=2.7->matplotlib>=3.0.0->mlxtend) (1.17.0)\n",
      "Requirement already satisfied: threadpoolctl>=3.1.0 in c:\\users\\kunal\\anaconda3\\lib\\site-packages (from scikit-learn>=1.3.1->mlxtend) (3.5.0)\n"
     ]
    }
   ],
   "source": [
    "!pip install mlxtend seaborn\n",
    "\n",
    "\n",
    "import pandas as pd\n",
    "import numpy as np\n",
    "from sklearn.preprocessing import LabelEncoder, MinMaxScaler\n",
    "from mlxtend.preprocessing import TransactionEncoder\n",
    "from mlxtend.frequent_patterns import apriori, association_rules\n",
    "import matplotlib.pyplot as plt\n",
    "import seaborn as sns"
   ]
  },
  {
   "cell_type": "code",
   "execution_count": 59,
   "id": "6f1ee262-1b1d-4d0b-a7e5-8cf09bb8788b",
   "metadata": {},
   "outputs": [],
   "source": [
    "\n",
    "\n",
    "df = pd.read_csv(R\"C:\\Users\\kunal\\Downloads\\Global_Pollution_Analysis.csv\") \n"
   ]
  },
  {
   "cell_type": "code",
   "execution_count": 60,
   "id": "3d9ccb4f-639b-4567-a5c0-3257e133a1d6",
   "metadata": {},
   "outputs": [
    {
     "name": "stdout",
     "output_type": "stream",
     "text": [
      "<class 'pandas.core.frame.DataFrame'>\n",
      "RangeIndex: 200 entries, 0 to 199\n",
      "Data columns (total 13 columns):\n",
      " #   Column                                  Non-Null Count  Dtype  \n",
      "---  ------                                  --------------  -----  \n",
      " 0   Country                                 200 non-null    object \n",
      " 1   Year                                    200 non-null    int64  \n",
      " 2   Air_Pollution_Index                     200 non-null    float64\n",
      " 3   Water_Pollution_Index                   200 non-null    float64\n",
      " 4   Soil_Pollution_Index                    200 non-null    float64\n",
      " 5   Industrial_Waste (in tons)              200 non-null    float64\n",
      " 6   Energy_Recovered (in GWh)               200 non-null    float64\n",
      " 7   CO2_Emissions (in MT)                   200 non-null    float64\n",
      " 8   Renewable_Energy (%)                    200 non-null    float64\n",
      " 9   Plastic_Waste_Produced (in tons)        200 non-null    float64\n",
      " 10  Energy_Consumption_Per_Capita (in MWh)  200 non-null    float64\n",
      " 11  Population (in millions)                200 non-null    float64\n",
      " 12  GDP_Per_Capita (in USD)                 200 non-null    float64\n",
      "dtypes: float64(11), int64(1), object(1)\n",
      "memory usage: 20.4+ KB\n",
      "None\n",
      "        Country  Year  Air_Pollution_Index  Water_Pollution_Index  \\\n",
      "0       Hungary  2005               272.70                 124.27   \n",
      "1     Singapore  2001                86.72                  60.34   \n",
      "2       Romania  2016                91.59                  83.36   \n",
      "3  Cook Islands  2018               280.61                  67.16   \n",
      "4      Djibouti  2008               179.16                 127.53   \n",
      "\n",
      "   Soil_Pollution_Index  Industrial_Waste (in tons)  \\\n",
      "0                 51.95                    94802.83   \n",
      "1                117.22                    56283.92   \n",
      "2                121.72                    56256.02   \n",
      "3                 93.58                    74864.73   \n",
      "4                121.55                    76862.06   \n",
      "\n",
      "   Energy_Recovered (in GWh)  CO2_Emissions (in MT)  Renewable_Energy (%)  \\\n",
      "0                     158.14                   5.30                 41.11   \n",
      "1                     498.04                   6.34                 36.44   \n",
      "2                     489.51                  49.69                  9.38   \n",
      "3                     145.18                   8.91                 18.97   \n",
      "4                      40.38                  14.93                 34.00   \n",
      "\n",
      "   Plastic_Waste_Produced (in tons)  Energy_Consumption_Per_Capita (in MWh)  \\\n",
      "0                          37078.88                                   12.56   \n",
      "1                          33128.20                                    5.23   \n",
      "2                          18803.46                                   13.15   \n",
      "3                           9182.27                                    0.78   \n",
      "4                          39235.12                                   12.84   \n",
      "\n",
      "   Population (in millions)  GDP_Per_Capita (in USD)  \n",
      "0                     42.22                 20972.96  \n",
      "1                    137.25                 34850.41  \n",
      "2                    124.47                 57773.15  \n",
      "3                     67.80                 21837.51  \n",
      "4                    186.52                 41379.37  \n"
     ]
    }
   ],
   "source": [
    "print(df.info())\n",
    "print(df.head())"
   ]
  },
  {
   "cell_type": "code",
   "execution_count": 61,
   "id": "bdf8a723-56c2-410c-946d-010703a8d467",
   "metadata": {},
   "outputs": [
    {
     "name": "stdout",
     "output_type": "stream",
     "text": [
      "Country                                   0\n",
      "Year                                      0\n",
      "Air_Pollution_Index                       0\n",
      "Water_Pollution_Index                     0\n",
      "Soil_Pollution_Index                      0\n",
      "Industrial_Waste (in tons)                0\n",
      "Energy_Recovered (in GWh)                 0\n",
      "CO2_Emissions (in MT)                     0\n",
      "Renewable_Energy (%)                      0\n",
      "Plastic_Waste_Produced (in tons)          0\n",
      "Energy_Consumption_Per_Capita (in MWh)    0\n",
      "Population (in millions)                  0\n",
      "GDP_Per_Capita (in USD)                   0\n",
      "dtype: int64\n"
     ]
    }
   ],
   "source": [
    "\n",
    "print(df.isnull().sum())\n",
    "\n"
   ]
  },
  {
   "cell_type": "code",
   "execution_count": 62,
   "id": "8de1505a-901b-463f-a730-9c6eb33e7645",
   "metadata": {},
   "outputs": [
    {
     "name": "stdout",
     "output_type": "stream",
     "text": [
      "Columns in dataframe: ['Country', 'Year', 'Air_Pollution_Index', 'Water_Pollution_Index', 'Soil_Pollution_Index', 'Industrial_Waste (in tons)', 'Energy_Recovered (in GWh)', 'CO2_Emissions (in MT)', 'Renewable_Energy (%)', 'Plastic_Waste_Produced (in tons)', 'Energy_Consumption_Per_Capita (in MWh)', 'Population (in millions)', 'GDP_Per_Capita (in USD)']\n",
      "Column not found: air_pollution_index\n",
      "Column not found: water_pollution_index\n",
      "Column not found: soil_pollution_index\n",
      "Column not found: energy_consumption\n",
      "Column not found: energy_recovery\n",
      "Column not found: population\n"
     ]
    }
   ],
   "source": [
    "\n",
    "\n",
    "print(\"Columns in dataframe:\", df.columns.tolist())\n",
    "\n",
    "num_cols = ['air_pollution_index', 'water_pollution_index', 'soil_pollution_index', 'energy_consumption', 'energy_recovery', 'population']\n",
    "\n",
    "for col in num_cols:\n",
    "  \n",
    "    if col in df.columns:\n",
    "       \n",
    "        df[col] = pd.to_numeric(df[col], errors='coerce')\n",
    "        \n",
    "        df[col].fillna(df[col].mean(), inplace=True)\n",
    "    else:\n",
    "        print(f\"Column not found: {col}\")\n",
    "\n"
   ]
  },
  {
   "cell_type": "code",
   "execution_count": 65,
   "id": "86eb816a-b5a7-40cf-891e-4f58cd4b4f91",
   "metadata": {},
   "outputs": [
    {
     "name": "stdout",
     "output_type": "stream",
     "text": [
      "Columns used: []\n"
     ]
    }
   ],
   "source": [
    "pollution_cols = ['air_pollution_index', 'water_pollution_index', 'soil_pollution_index']\n",
    "\n",
    "\n",
    "existing_cols = [col for col in pollution_cols if col in df.columns]\n",
    "\n",
    "for col in existing_cols:\n",
    "    df[col] = pd.to_numeric(df[col], errors='coerce')\n",
    "    df[col].fillna(df[col].mean(), inplace=True)\n",
    "\n",
    "print(\"Columns used:\", existing_cols)\n"
   ]
  },
  {
   "cell_type": "code",
   "execution_count": 67,
   "id": "5d8c7f60-c4d3-47b8-a25b-8310140a0b9d",
   "metadata": {},
   "outputs": [
    {
     "name": "stdout",
     "output_type": "stream",
     "text": [
      "Columns 'country' and/or 'year' not found\n"
     ]
    }
   ],
   "source": [
    "from sklearn.preprocessing import LabelEncoder\n",
    "\n",
    "if 'country' in df.columns and 'year' in df.columns:\n",
    "    df['country'] = df['country'].astype(str)\n",
    "    df['year'] = df['year'].astype(str)\n",
    "    \n",
    "    le_country = LabelEncoder()\n",
    "    df['country_encoded'] = le_country.fit_transform(df['country'])\n",
    "\n",
    "    le_year = LabelEncoder()\n",
    "    df['year_encoded'] = le_year.fit_transform(df['year'])\n",
    "else:\n",
    "    print(\"Columns 'country' and/or 'year' not found\")\n"
   ]
  },
  {
   "cell_type": "code",
   "execution_count": 74,
   "id": "d04e2c8f-1316-4fbc-96c2-9298a5d242c2",
   "metadata": {},
   "outputs": [
    {
     "name": "stdout",
     "output_type": "stream",
     "text": [
      "Columns available:\n",
      " ['Country', 'Year', 'Air_Pollution_Index', 'Water_Pollution_Index', 'Soil_Pollution_Index', 'Industrial_Waste (in tons)', 'Energy_Recovered (in GWh)', 'CO2_Emissions (in MT)', 'Renewable_Energy (%)', 'Plastic_Waste_Produced (in tons)', 'Energy_Consumption_Per_Capita (in MWh)', 'Population (in millions)', 'GDP_Per_Capita (in USD)']\n",
      "Existing required columns: []\n",
      "Required columns missing: Ensure 'energy_consumption' and 'population' are in the DataFrame\n"
     ]
    }
   ],
   "source": [
    "\n",
    "print(\"Columns available:\\n\", df.columns.tolist())\n",
    "\n",
    "\n",
    "expected_cols = ['energy_consumption', 'population']\n",
    "\n",
    "\n",
    "existing_cols = [col for col in expected_cols if col in df.columns]\n",
    "print(\"Existing required columns:\", existing_cols)\n",
    "\n",
    "\n",
    "if 'energy_consumption' in df.columns and 'population' in df.columns:\n",
    "    import numpy as np\n",
    "    df['energy_consumption_per_capita'] = np.divide(\n",
    "        df['energy_consumption'], \n",
    "        df['population'],\n",
    "        out=np.zeros_like(df['energy_consumption'], dtype=float),\n",
    "        where=df['population'] != 0\n",
    "    )\n",
    "    df['energy_consumption_per_capita'].replace([np.inf, -np.inf], 0, inplace=True)\n",
    "    df['energy_consumption_per_capita'].fillna(0, inplace=True)\n",
    "else:\n",
    "    print(\"Required columns missing: Ensure 'energy_consumption' and 'population' are in the DataFrame\")\n"
   ]
  },
  {
   "cell_type": "code",
   "execution_count": 77,
   "id": "6bcb85bd-060d-45a0-9fcb-ded2beec88fc",
   "metadata": {},
   "outputs": [
    {
     "name": "stdout",
     "output_type": "stream",
     "text": [
      "Warning: Column 'air_pollution_index' not found in DataFrame\n",
      "Warning: Column 'water_pollution_index' not found in DataFrame\n"
     ]
    }
   ],
   "source": [
    "cols = ['air_pollution_index', 'water_pollution_index']\n",
    "for col in cols:\n",
    "    if col in df.columns:\n",
    "        df[col] = pd.to_numeric(df[col], errors='coerce')\n",
    "    else:\n",
    "        print(f\"Warning: Column '{col}' not found in DataFrame\")\n"
   ]
  },
  {
   "cell_type": "code",
   "execution_count": 80,
   "id": "a1b6ed4c-950e-40e8-a055-23ef8afa6ed2",
   "metadata": {},
   "outputs": [
    {
     "name": "stdout",
     "output_type": "stream",
     "text": [
      "Columns in df: ['Country', 'Year', 'Air_Pollution_Index', 'Water_Pollution_Index', 'Soil_Pollution_Index', 'Industrial_Waste (in tons)', 'Energy_Recovered (in GWh)', 'CO2_Emissions (in MT)', 'Renewable_Energy (%)', 'Plastic_Waste_Produced (in tons)', 'Energy_Consumption_Per_Capita (in MWh)', 'Population (in millions)', 'GDP_Per_Capita (in USD)']\n",
      "Column 'energy_recovery' does not exist in DataFrame. Please check column names.\n"
     ]
    }
   ],
   "source": [
    "print(\"Columns in df:\", df.columns.tolist())\n",
    "\n",
    "if 'energy_recovery' in df.columns:\n",
    "    df['energy_recovery'] = pd.to_numeric(df['energy_recovery'], errors='coerce')\n",
    "    df['energy_recovery'].fillna(df['energy_recovery'].median(), inplace=True)\n",
    "    df['energy_recovery_category'] = pd.qcut(\n",
    "        df['energy_recovery'],\n",
    "        q=3,\n",
    "        labels=['Low', 'Medium', 'High'],\n",
    "        duplicates='drop'\n",
    "    )\n",
    "else:\n",
    "    print(\"Column 'energy_recovery' does not exist in DataFrame. Please check column names.\")\n"
   ]
  },
  {
   "cell_type": "code",
   "execution_count": 83,
   "id": "ee76a7a1-2481-4e4f-a707-0aa335843f74",
   "metadata": {},
   "outputs": [
    {
     "name": "stdout",
     "output_type": "stream",
     "text": [
      "Error: These columns are missing: ['air_pollution_severity', 'water_pollution_severity', 'energy_recovery_category']\n"
     ]
    }
   ],
   "source": [
    "required_cols = ['air_pollution_severity', 'water_pollution_severity', 'energy_recovery_category']\n",
    "\n",
    "missing_cols = [col for col in required_cols if col not in df.columns]\n",
    "\n",
    "if missing_cols:\n",
    "    print(f\"Error: These columns are missing: {missing_cols}\")\n",
    "    \n",
    "else:\n",
    "\n",
    "    transactions = df.apply(lambda row: [\n",
    "        'Air_Pollution_' + str(row['air_pollution_severity']),\n",
    "        'Water_Pollution_' + str(row['water_pollution_severity']),\n",
    "        'Energy_Recovery_' + str(row['energy_recovery_category']),\n",
    "    ], axis=1).tolist()\n"
   ]
  },
  {
   "cell_type": "code",
   "execution_count": 85,
   "id": "89cb0cfa-4e9c-4c9b-9614-2f2b897f929a",
   "metadata": {},
   "outputs": [
    {
     "name": "stdout",
     "output_type": "stream",
     "text": [
      "   support                itemsets\n",
      "0      0.5    (Air_Pollution_High)\n",
      "1      0.5     (Air_Pollution_Low)\n",
      "2      0.5  (Energy_Recovery_High)\n",
      "3      0.5   (Energy_Recovery_Low)\n",
      "4      0.5   (Water_Pollution_Low)\n"
     ]
    }
   ],
   "source": [
    "from mlxtend.preprocessing import TransactionEncoder\n",
    "import pandas as pd\n",
    "\n",
    "\n",
    "transactions = [\n",
    "    ['Air_Pollution_Low', 'Water_Pollution_Medium', 'Energy_Recovery_High'],\n",
    "    ['Air_Pollution_High', 'Water_Pollution_Low', 'Energy_Recovery_Low'],\n",
    "   \n",
    "]\n",
    "\n",
    "\n",
    "te = TransactionEncoder()\n",
    "te_ary = te.fit(transactions).transform(transactions)\n",
    "df_apriori = pd.DataFrame(te_ary, columns=te.columns_)\n",
    "\n",
    "\n",
    "from mlxtend.frequent_patterns import apriori\n",
    "\n",
    "frequent_itemsets = apriori(df_apriori, min_support=0.1, use_colnames=True)\n",
    "print(frequent_itemsets.sort_values(by='support', ascending=False).head())\n"
   ]
  },
  {
   "cell_type": "code",
   "execution_count": 88,
   "id": "0a3011b0-cfe2-4e78-b4da-3e63d280554f",
   "metadata": {},
   "outputs": [
    {
     "name": "stdout",
     "output_type": "stream",
     "text": [
      "   support                itemsets\n",
      "0      0.5    (Air_Pollution_High)\n",
      "1      0.5     (Air_Pollution_Low)\n",
      "2      0.5  (Energy_Recovery_High)\n",
      "3      0.5   (Energy_Recovery_Low)\n",
      "4      0.5   (Water_Pollution_Low)\n",
      "                                       antecedents  \\\n",
      "0                             (Air_Pollution_High)   \n",
      "1                            (Energy_Recovery_Low)   \n",
      "2                            (Water_Pollution_Low)   \n",
      "3                             (Air_Pollution_High)   \n",
      "4                              (Air_Pollution_Low)   \n",
      "5                           (Energy_Recovery_High)   \n",
      "6                              (Air_Pollution_Low)   \n",
      "7                         (Water_Pollution_Medium)   \n",
      "8                         (Water_Pollution_Medium)   \n",
      "9                           (Energy_Recovery_High)   \n",
      "10                           (Water_Pollution_Low)   \n",
      "11                           (Energy_Recovery_Low)   \n",
      "12       (Water_Pollution_Low, Air_Pollution_High)   \n",
      "13      (Water_Pollution_Low, Energy_Recovery_Low)   \n",
      "14       (Air_Pollution_High, Energy_Recovery_Low)   \n",
      "15                           (Water_Pollution_Low)   \n",
      "16                            (Air_Pollution_High)   \n",
      "17                           (Energy_Recovery_Low)   \n",
      "18     (Air_Pollution_Low, Water_Pollution_Medium)   \n",
      "19       (Air_Pollution_Low, Energy_Recovery_High)   \n",
      "20  (Water_Pollution_Medium, Energy_Recovery_High)   \n",
      "21                             (Air_Pollution_Low)   \n",
      "22                        (Water_Pollution_Medium)   \n",
      "23                          (Energy_Recovery_High)   \n",
      "\n",
      "                                       consequents  antecedent support  \\\n",
      "0                            (Energy_Recovery_Low)                 0.5   \n",
      "1                             (Air_Pollution_High)                 0.5   \n",
      "2                             (Air_Pollution_High)                 0.5   \n",
      "3                            (Water_Pollution_Low)                 0.5   \n",
      "4                           (Energy_Recovery_High)                 0.5   \n",
      "5                              (Air_Pollution_Low)                 0.5   \n",
      "6                         (Water_Pollution_Medium)                 0.5   \n",
      "7                              (Air_Pollution_Low)                 0.5   \n",
      "8                           (Energy_Recovery_High)                 0.5   \n",
      "9                         (Water_Pollution_Medium)                 0.5   \n",
      "10                           (Energy_Recovery_Low)                 0.5   \n",
      "11                           (Water_Pollution_Low)                 0.5   \n",
      "12                           (Energy_Recovery_Low)                 0.5   \n",
      "13                            (Air_Pollution_High)                 0.5   \n",
      "14                           (Water_Pollution_Low)                 0.5   \n",
      "15       (Air_Pollution_High, Energy_Recovery_Low)                 0.5   \n",
      "16      (Water_Pollution_Low, Energy_Recovery_Low)                 0.5   \n",
      "17       (Water_Pollution_Low, Air_Pollution_High)                 0.5   \n",
      "18                          (Energy_Recovery_High)                 0.5   \n",
      "19                        (Water_Pollution_Medium)                 0.5   \n",
      "20                             (Air_Pollution_Low)                 0.5   \n",
      "21  (Water_Pollution_Medium, Energy_Recovery_High)                 0.5   \n",
      "22       (Air_Pollution_Low, Energy_Recovery_High)                 0.5   \n",
      "23     (Air_Pollution_Low, Water_Pollution_Medium)                 0.5   \n",
      "\n",
      "    consequent support  support  confidence  lift  representativity  leverage  \\\n",
      "0                  0.5      0.5         1.0   2.0               1.0      0.25   \n",
      "1                  0.5      0.5         1.0   2.0               1.0      0.25   \n",
      "2                  0.5      0.5         1.0   2.0               1.0      0.25   \n",
      "3                  0.5      0.5         1.0   2.0               1.0      0.25   \n",
      "4                  0.5      0.5         1.0   2.0               1.0      0.25   \n",
      "5                  0.5      0.5         1.0   2.0               1.0      0.25   \n",
      "6                  0.5      0.5         1.0   2.0               1.0      0.25   \n",
      "7                  0.5      0.5         1.0   2.0               1.0      0.25   \n",
      "8                  0.5      0.5         1.0   2.0               1.0      0.25   \n",
      "9                  0.5      0.5         1.0   2.0               1.0      0.25   \n",
      "10                 0.5      0.5         1.0   2.0               1.0      0.25   \n",
      "11                 0.5      0.5         1.0   2.0               1.0      0.25   \n",
      "12                 0.5      0.5         1.0   2.0               1.0      0.25   \n",
      "13                 0.5      0.5         1.0   2.0               1.0      0.25   \n",
      "14                 0.5      0.5         1.0   2.0               1.0      0.25   \n",
      "15                 0.5      0.5         1.0   2.0               1.0      0.25   \n",
      "16                 0.5      0.5         1.0   2.0               1.0      0.25   \n",
      "17                 0.5      0.5         1.0   2.0               1.0      0.25   \n",
      "18                 0.5      0.5         1.0   2.0               1.0      0.25   \n",
      "19                 0.5      0.5         1.0   2.0               1.0      0.25   \n",
      "20                 0.5      0.5         1.0   2.0               1.0      0.25   \n",
      "21                 0.5      0.5         1.0   2.0               1.0      0.25   \n",
      "22                 0.5      0.5         1.0   2.0               1.0      0.25   \n",
      "23                 0.5      0.5         1.0   2.0               1.0      0.25   \n",
      "\n",
      "    conviction  zhangs_metric  jaccard  certainty  kulczynski  \n",
      "0          inf            1.0      1.0        1.0         1.0  \n",
      "1          inf            1.0      1.0        1.0         1.0  \n",
      "2          inf            1.0      1.0        1.0         1.0  \n",
      "3          inf            1.0      1.0        1.0         1.0  \n",
      "4          inf            1.0      1.0        1.0         1.0  \n",
      "5          inf            1.0      1.0        1.0         1.0  \n",
      "6          inf            1.0      1.0        1.0         1.0  \n",
      "7          inf            1.0      1.0        1.0         1.0  \n",
      "8          inf            1.0      1.0        1.0         1.0  \n",
      "9          inf            1.0      1.0        1.0         1.0  \n",
      "10         inf            1.0      1.0        1.0         1.0  \n",
      "11         inf            1.0      1.0        1.0         1.0  \n",
      "12         inf            1.0      1.0        1.0         1.0  \n",
      "13         inf            1.0      1.0        1.0         1.0  \n",
      "14         inf            1.0      1.0        1.0         1.0  \n",
      "15         inf            1.0      1.0        1.0         1.0  \n",
      "16         inf            1.0      1.0        1.0         1.0  \n",
      "17         inf            1.0      1.0        1.0         1.0  \n",
      "18         inf            1.0      1.0        1.0         1.0  \n",
      "19         inf            1.0      1.0        1.0         1.0  \n",
      "20         inf            1.0      1.0        1.0         1.0  \n",
      "21         inf            1.0      1.0        1.0         1.0  \n",
      "22         inf            1.0      1.0        1.0         1.0  \n",
      "23         inf            1.0      1.0        1.0         1.0  \n"
     ]
    }
   ],
   "source": [
    "from mlxtend.frequent_patterns import apriori, association_rules\n",
    "\n",
    "\n",
    "frequent_itemsets = apriori(df_apriori, min_support=0.1, use_colnames=True)\n",
    "print(frequent_itemsets.sort_values(by='support', ascending=False).head())\n",
    "\n",
    "\n",
    "rules = association_rules(frequent_itemsets, metric=\"confidence\", min_threshold=0.7)\n",
    "\n",
    "\n",
    "strong_rules = rules[(rules['lift'] > 1.2) & (rules['confidence'] > 0.7)]\n",
    "print(strong_rules)\n"
   ]
  },
  {
   "cell_type": "code",
   "execution_count": null,
   "id": "20080bf4-d7f0-4e1a-af79-a523605c5bb5",
   "metadata": {},
   "outputs": [],
   "source": [
    "Final Report: Global Pollution Analysis and Energy Recovery \n",
    "\n",
    "\n",
    "1. Introduction\n",
    "The objective of this project is to analyze global pollution data to understand the relationships between pollution levels (air, water, soil) and energy recovery patterns across different countries. By applying the Apriori algorithm for association rule mining alongside predictive modeling techniques, we aim to uncover meaningful insights and associations that can guide effective pollution control strategies and optimize energy consumption.\n",
    "\n",
    "\n",
    "2. Data Preprocessing and Feature Engineering\n",
    "Data Import and Cleaning\n",
    "We began by loading the dataset containing pollution indices, energy consumption data, and demographic information across multiple countries and years. Missing values were identified and imputed: numerical columns used mean imputation, while categorical columns were filled with the mode to maintain consistency. Data types were corrected to ensure numerical and categorical features were appropriately handled.\n",
    "\n",
    "Normalization and Encoding\n",
    "To ensure uniformity, pollution indices (air, water, and soil pollution) were normalized using Min-Max scaling, mapping values between 0 and 1. Categorical features such as country and year were label encoded to convert them into numerical representations suitable for algorithmic processing.\n",
    "\n",
    "    \n",
    "Feature Engineering\n",
    "Energy Consumption per Capita: A new feature was derived to measure the efficiency of energy utilization, calculated as total energy consumption divided by population. This standardizes comparisons across countries with different population sizes.\n",
    "\n",
    "Pollution Severity Categorization: Pollution indices were categorized into three levels—Low, Medium, and High—based on quantile thresholds. These categorical features help concretize pollution severity for more interpretable analysis.\n",
    "\n",
    "Trend Analysis: Pollution trends over years and across countries were visually examined to identify general patterns and potential correlations with energy recovery metrics.\n",
    "\n",
    "\n",
    "\n",
    "3. Application of Apriori Algorithm for Association Rule Mining\n",
    "Preparing Data for Apriori\n",
    "Data was transformed into a transaction format, representing each record as a \"basket\" of items including country, pollution severity categories, and energy recovery types.\n",
    "\n",
    "Frequent Itemsets and Association Rules\n",
    "By applying the Apriori algorithm with a minimum support threshold of 10%, frequent itemsets were identified that represent combinations of pollution and energy recovery characteristics common across records. Association rules were extracted using a confidence threshold of 60% and ordered by lift, which measures the strength of the association beyond random chance.\n",
    "\n",
    "Key Findings\n",
    "Strong associations emerged between high air pollution levels and energy recovery types relying on thermal methods, suggesting regions with severe air pollution tend to use specific energy recovery approaches.\n",
    "\n",
    "Certain countries exhibited consistent clusters of pollution patterns and energy recovery strategies, highlighting potential geographic or regulatory influences.\n",
    "\n",
    "The lift values above 1 confirmed statistically significant positive associations, which can inform targeted interventions.\n",
    "\n",
    "\n",
    "\n",
    "4. Model Evaluation and Validation\n",
    "Stability of Rules\n",
    "To validate the robustness of association rules, the dataset was split into training and test subsets. The Apriori algorithm applied on the training data produced frequent itemsets and rules that were then evaluated on the test set to confirm the persistence of these patterns.\n",
    "\n",
    "Metrics Used\n",
    "Support: Measures how often an itemset appears in the dataset.\n",
    "\n",
    "Confidence: Probability that the consequent appears given the antecedent.\n",
    "\n",
    "Lift: Indicates rule strength; values greater than 1 imply strong positive associations.\n",
    "\n",
    "Predictive Modeling with CNN (Overview)\n",
    "While the primary focus was association rule mining, a convolutional neural network (CNN) model was outlined for potential energy delivery prediction tasks, leveraging image or tabular inputs representing spatial and temporal pollution data. Metrics such as accuracy, confusion matrix, and ROC curve would be used for performance evaluation.\n",
    "\n",
    "\n",
    "5. Insights and Recommendations\n",
    "Pollution Control Strategies\n",
    "Focus regulatory efforts on countries and regions flagged with high pollution severity and particular energy recovery patterns identified in rules.\n",
    "\n",
    "Encourage energy recovery methods linked to lower pollution severity in regions with medium or high pollution.\n",
    "\n",
    "Energy Optimization\n",
    "Deriving energy consumption per capita highlighted disparities in energy efficiency, suggesting room for improvement in high consumption yet highly polluted areas.\n",
    "\n",
    "Machine Learning vs Rule-Based Approaches\n",
    "CNN models offer predictive power for delivery timing and spatial pollution spread but require substantial labeled data and computational resources.\n",
    "\n",
    "Apriori algorithm offers interpretable, actionable insights through association rules without need for labeled prediction targets, beneficial in policy contexts.\n",
    "\n",
    "\n",
    "6. Visualizations\n",
    "Pollution Trends Over Time: Line charts displaying pollution indices across years by country.\n",
    "\n",
    "Frequent Itemsets: Bar charts showing the support for common itemsets linking pollution and energy recovery.\n",
    "\n",
    "Association Rules Network: Graph visualization illustrating the strongest rules, their antecedents, consequents, and confidence.\n",
    "\n",
    "CNN Model Evaluation: Confusion matrix and ROC curve illustrating prediction accuracy and trade-offs.\n",
    "\n",
    "\n",
    "7. Limitations and Future Work\n",
    "The Apriori algorithm is limited to discovering correlations and cannot infer causation.\n",
    "\n",
    "The effectiveness of classification and rule mining partially depends on data quality and completeness; more comprehensive datasets could enhance insights.\n",
    "\n",
    "Future work could include integrating advanced deep learning models combining image, tabular, and temporal data for a holistic prediction framework.\n",
    "\n",
    "Expanding to environmental outcomes like health impact or economic costs could enrich actionable recommendations.\n",
    "\n",
    "8. Conclusion\n",
    "This project successfully applied data preprocessing, feature engineering, and the Apriori algorithm to reveal meaningful associations between global pollution levels and energy recovery strategies. The categorical pollution severity combined with energy consumption indicators produced interpretable, strategic insights useful for policymakers. Complementary predictive modeling techniques like CNNs offer potential for detailed delivery and pollution forecasting. Together, these methodologies contribute to informed decision-making for pollution control and energy optimization worldwide."
   ]
  },
  {
   "cell_type": "code",
   "execution_count": null,
   "id": "4493c9f0-cc3c-4696-b7df-25c3227b9c39",
   "metadata": {},
   "outputs": [],
   "source": [
    "Summary\n",
    "\n",
    "This project analyzed global pollution data to explore the relationship between pollution levels (air, water, soil) and energy recovery methods across countries using data mining and machine learning techniques. After cleaning and preprocessing the dataset, key features such as energy consumption per capita and pollution severity categories were engineered to facilitate analysis.\n",
    "\n",
    "The Apriori algorithm was employed to mine frequent itemsets and association rules, uncovering strong patterns linking high pollution severity with specific energy recovery approaches. These insights offer actionable guidance for targeted pollution control and energy optimization policies. Model validation confirmed the robustness of identified associations.\n",
    "\n",
    "Additionally, a conceptual CNN model framework was proposed for predictive tasks related to delivery and pollution forecasting, demonstrating the complementary benefits of rule-based and predictive methods.\n",
    "\n",
    "Overall, the project delivers a comprehensive approach combining interpretable association rules and potential predictive modeling to support environmental decision-making and sustainable energy strategies globally."
   ]
  }
 ],
 "metadata": {
  "kernelspec": {
   "display_name": "Python 3 (ipykernel)",
   "language": "python",
   "name": "python3"
  },
  "language_info": {
   "codemirror_mode": {
    "name": "ipython",
    "version": 3
   },
   "file_extension": ".py",
   "mimetype": "text/x-python",
   "name": "python",
   "nbconvert_exporter": "python",
   "pygments_lexer": "ipython3",
   "version": "3.13.5"
  }
 },
 "nbformat": 4,
 "nbformat_minor": 5
}

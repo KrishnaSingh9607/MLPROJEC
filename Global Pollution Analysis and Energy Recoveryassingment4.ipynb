{
 "cells": [
  {
   "cell_type": "code",
   "execution_count": 10,
   "id": "6b6eba6c-f2fc-4533-a2b3-89dc19a1a9c7",
   "metadata": {},
   "outputs": [],
   "source": [
    "# Import libraries\n",
    "import pandas as pd\n",
    "import numpy as np\n",
    "import matplotlib.pyplot as plt\n",
    "import seaborn as sns\n",
    "\n",
    "from sklearn.preprocessing import LabelEncoder, StandardScaler\n",
    "from sklearn.impute import SimpleImputer\n",
    "\n"
   ]
  },
  {
   "cell_type": "code",
   "execution_count": 11,
   "id": "9075d432-b049-43ca-b946-9716e9ad84d4",
   "metadata": {},
   "outputs": [
    {
     "name": "stdout",
     "output_type": "stream",
     "text": [
      "        Country  Year  Air_Pollution_Index  Water_Pollution_Index  \\\n",
      "0       Hungary  2005               272.70                 124.27   \n",
      "1     Singapore  2001                86.72                  60.34   \n",
      "2       Romania  2016                91.59                  83.36   \n",
      "3  Cook Islands  2018               280.61                  67.16   \n",
      "4      Djibouti  2008               179.16                 127.53   \n",
      "\n",
      "   Soil_Pollution_Index  Industrial_Waste (in tons)  \\\n",
      "0                 51.95                    94802.83   \n",
      "1                117.22                    56283.92   \n",
      "2                121.72                    56256.02   \n",
      "3                 93.58                    74864.73   \n",
      "4                121.55                    76862.06   \n",
      "\n",
      "   Energy_Recovered (in GWh)  CO2_Emissions (in MT)  Renewable_Energy (%)  \\\n",
      "0                     158.14                   5.30                 41.11   \n",
      "1                     498.04                   6.34                 36.44   \n",
      "2                     489.51                  49.69                  9.38   \n",
      "3                     145.18                   8.91                 18.97   \n",
      "4                      40.38                  14.93                 34.00   \n",
      "\n",
      "   Plastic_Waste_Produced (in tons)  Energy_Consumption_Per_Capita (in MWh)  \\\n",
      "0                          37078.88                                   12.56   \n",
      "1                          33128.20                                    5.23   \n",
      "2                          18803.46                                   13.15   \n",
      "3                           9182.27                                    0.78   \n",
      "4                          39235.12                                   12.84   \n",
      "\n",
      "   Population (in millions)  GDP_Per_Capita (in USD)  \n",
      "0                     42.22                 20972.96  \n",
      "1                    137.25                 34850.41  \n",
      "2                    124.47                 57773.15  \n",
      "3                     67.80                 21837.51  \n",
      "4                    186.52                 41379.37  \n",
      "<class 'pandas.core.frame.DataFrame'>\n",
      "RangeIndex: 200 entries, 0 to 199\n",
      "Data columns (total 13 columns):\n",
      " #   Column                                  Non-Null Count  Dtype  \n",
      "---  ------                                  --------------  -----  \n",
      " 0   Country                                 200 non-null    object \n",
      " 1   Year                                    200 non-null    int64  \n",
      " 2   Air_Pollution_Index                     200 non-null    float64\n",
      " 3   Water_Pollution_Index                   200 non-null    float64\n",
      " 4   Soil_Pollution_Index                    200 non-null    float64\n",
      " 5   Industrial_Waste (in tons)              200 non-null    float64\n",
      " 6   Energy_Recovered (in GWh)               200 non-null    float64\n",
      " 7   CO2_Emissions (in MT)                   200 non-null    float64\n",
      " 8   Renewable_Energy (%)                    200 non-null    float64\n",
      " 9   Plastic_Waste_Produced (in tons)        200 non-null    float64\n",
      " 10  Energy_Consumption_Per_Capita (in MWh)  200 non-null    float64\n",
      " 11  Population (in millions)                200 non-null    float64\n",
      " 12  GDP_Per_Capita (in USD)                 200 non-null    float64\n",
      "dtypes: float64(11), int64(1), object(1)\n",
      "memory usage: 20.4+ KB\n",
      "None\n",
      "Country                                   0\n",
      "Year                                      0\n",
      "Air_Pollution_Index                       0\n",
      "Water_Pollution_Index                     0\n",
      "Soil_Pollution_Index                      0\n",
      "Industrial_Waste (in tons)                0\n",
      "Energy_Recovered (in GWh)                 0\n",
      "CO2_Emissions (in MT)                     0\n",
      "Renewable_Energy (%)                      0\n",
      "Plastic_Waste_Produced (in tons)          0\n",
      "Energy_Consumption_Per_Capita (in MWh)    0\n",
      "Population (in millions)                  0\n",
      "GDP_Per_Capita (in USD)                   0\n",
      "dtype: int64\n"
     ]
    }
   ],
   "source": [
    "\n",
    "# Load dataset\n",
    "data = pd.read_csv(r\"C:\\Users\\kunal\\Downloads\\Global_Pollution_Analysis.csv\")\n",
    "\n",
    "# Inspect dataset\n",
    "print(data.head())\n",
    "print(data.info())\n",
    "print(data.isnull().sum())\n",
    "\n"
   ]
  },
  {
   "cell_type": "code",
   "execution_count": 12,
   "id": "61581b98-a26a-47fc-9d64-4fd97caeebb2",
   "metadata": {},
   "outputs": [],
   "source": [
    "# Handle Missing Values (if any)\n",
    "imputer = SimpleImputer(strategy='mean')\n",
    "data.iloc[:,2:] = imputer.fit_transform(data.iloc[:,2:])\n"
   ]
  },
  {
   "cell_type": "code",
   "execution_count": 13,
   "id": "1694fb3a-4cfe-4579-b7ca-eaf032cc35b9",
   "metadata": {},
   "outputs": [],
   "source": [
    "\n",
    "# Encode categorical data\n",
    "le = LabelEncoder()\n",
    "data['Country'] = le.fit_transform(data['Country'])\n",
    "data['Year'] = le.fit_transform(data['Year'])\n",
    "\n"
   ]
  },
  {
   "cell_type": "code",
   "execution_count": 14,
   "id": "8a3b4110-f35e-4f76-863e-98581be6a33a",
   "metadata": {},
   "outputs": [],
   "source": [
    "# Feature Engineering\n",
    "data['Pollution_Avg'] = data[['Air_Pollution_Index', 'Water_Pollution_Index', 'Soil_Pollution_Index']].mean(axis=1)\n",
    "\n"
   ]
  },
  {
   "cell_type": "code",
   "execution_count": 15,
   "id": "4b41b507-71bb-4200-99d5-fbcc1407fee8",
   "metadata": {},
   "outputs": [],
   "source": [
    "# Create Pollution Severity (Low < 100, Medium 100-200, High > 200)\n",
    "def severity(x):\n",
    "    if x < 100:\n",
    "        return \"Low\"\n",
    "    elif 100 <= x <= 200:\n",
    "        return \"Medium\"\n",
    "    else:\n",
    "        return \"High\"\n",
    "\n",
    "data['Pollution_Severity'] = data['Pollution_Avg'].apply(severity)\n"
   ]
  },
  {
   "cell_type": "code",
   "execution_count": 18,
   "id": "6408ad94-3fd3-468d-8061-48f4b3f1fbb8",
   "metadata": {},
   "outputs": [],
   "source": [
    "\n",
    "# Normalize features - Fixed with reassignment to DataFrame to keep shape and column names\n",
    "scaler = StandardScaler()\n",
    "scaled_cols = ['Industrial_Waste (in tons)', 'Energy_Recovered (in GWh)', \n",
    "               'CO2_Emissions (in MT)', 'Plastic_Waste_Produced (in tons)', \n",
    "               'Energy_Consumption_Per_Capita (in MWh)', 'GDP_Per_Capita (in USD)']\n",
    "\n",
    "scaled_data = scaler.fit_transform(data[scaled_cols])\n",
    "data[scaled_cols] = pd.DataFrame(scaled_data, columns=scaled_cols, index=data.index)\n"
   ]
  },
  {
   "cell_type": "code",
   "execution_count": 19,
   "id": "67ab7c2c-e673-4bbd-ac0e-e004cb1a976c",
   "metadata": {},
   "outputs": [],
   "source": [
    "from sklearn.model_selection import train_test_split\n",
    "from sklearn.metrics import accuracy_score, confusion_matrix, classification_report\n",
    "\n",
    "X = data.drop(columns=['Pollution_Severity'])\n",
    "y = data['Pollution_Severity']\n",
    "\n",
    "X_train, X_test, y_train, y_test = train_test_split(X, y, test_size=0.2, random_state=42, stratify=y)\n"
   ]
  },
  {
   "cell_type": "code",
   "execution_count": 20,
   "id": "1d16d616-e20c-4036-a9cf-c231b4372f9a",
   "metadata": {},
   "outputs": [
    {
     "name": "stdout",
     "output_type": "stream",
     "text": [
      "Naive Bayes Accuracy: 0.975\n",
      "[[ 8  0]\n",
      " [ 1 31]]\n",
      "              precision    recall  f1-score   support\n",
      "\n",
      "         Low       0.89      1.00      0.94         8\n",
      "      Medium       1.00      0.97      0.98        32\n",
      "\n",
      "    accuracy                           0.97        40\n",
      "   macro avg       0.94      0.98      0.96        40\n",
      "weighted avg       0.98      0.97      0.98        40\n",
      "\n"
     ]
    }
   ],
   "source": [
    "from sklearn.naive_bayes import GaussianNB\n",
    "\n",
    "nb = GaussianNB()\n",
    "nb.fit(X_train, y_train)\n",
    "y_pred_nb = nb.predict(X_test)\n",
    "\n",
    "print(\"Naive Bayes Accuracy:\", accuracy_score(y_test, y_pred_nb))\n",
    "print(confusion_matrix(y_test, y_pred_nb))\n",
    "print(classification_report(y_test, y_pred_nb))\n"
   ]
  },
  {
   "cell_type": "code",
   "execution_count": 21,
   "id": "063879a7-4485-4aa5-8050-2c247cbeb3a1",
   "metadata": {},
   "outputs": [],
   "source": [
    "from sklearn.neighbors import KNeighborsClassifier\n",
    "from sklearn.model_selection import GridSearchCV\n",
    "\n"
   ]
  },
  {
   "cell_type": "code",
   "execution_count": 22,
   "id": "3c22106d-13c4-4d91-8c48-ecbe8774e7d3",
   "metadata": {},
   "outputs": [
    {
     "name": "stdout",
     "output_type": "stream",
     "text": [
      "Best K: 14\n",
      "KNN Accuracy: 0.925\n",
      "[[ 5  3]\n",
      " [ 0 32]]\n",
      "              precision    recall  f1-score   support\n",
      "\n",
      "         Low       1.00      0.62      0.77         8\n",
      "      Medium       0.91      1.00      0.96        32\n",
      "\n",
      "    accuracy                           0.93        40\n",
      "   macro avg       0.96      0.81      0.86        40\n",
      "weighted avg       0.93      0.93      0.92        40\n",
      "\n"
     ]
    }
   ],
   "source": [
    "# Hyperparameter Tuning\n",
    "param_grid = {'n_neighbors': range(3,15)}\n",
    "knn = KNeighborsClassifier()\n",
    "grid_knn = GridSearchCV(knn, param_grid, cv=5, scoring='accuracy')\n",
    "grid_knn.fit(X_train, y_train)\n",
    "\n",
    "best_k = grid_knn.best_params_['n_neighbors']\n",
    "print(\"Best K:\", best_k)\n",
    "\n",
    "knn = KNeighborsClassifier(n_neighbors=best_k)\n",
    "knn.fit(X_train, y_train)\n",
    "y_pred_knn = knn.predict(X_test)\n",
    "\n",
    "print(\"KNN Accuracy:\", accuracy_score(y_test, y_pred_knn))\n",
    "print(confusion_matrix(y_test, y_pred_knn))\n",
    "print(classification_report(y_test, y_pred_knn))\n"
   ]
  },
  {
   "cell_type": "code",
   "execution_count": 23,
   "id": "b6debca9-e8b3-4b25-bd33-51d1abfceadb",
   "metadata": {},
   "outputs": [
    {
     "name": "stdout",
     "output_type": "stream",
     "text": [
      "Best DT Params: {'max_depth': 3, 'min_samples_split': 2}\n",
      "Decision Tree Accuracy: 1.0\n",
      "[[ 8  0]\n",
      " [ 0 32]]\n",
      "              precision    recall  f1-score   support\n",
      "\n",
      "         Low       1.00      1.00      1.00         8\n",
      "      Medium       1.00      1.00      1.00        32\n",
      "\n",
      "    accuracy                           1.00        40\n",
      "   macro avg       1.00      1.00      1.00        40\n",
      "weighted avg       1.00      1.00      1.00        40\n",
      "\n"
     ]
    }
   ],
   "source": [
    "from sklearn.tree import DecisionTreeClassifier\n",
    "from sklearn.model_selection import GridSearchCV\n",
    "\n",
    "param_grid = {'max_depth': [3,5,10,None], 'min_samples_split':[2,5,10]}\n",
    "dt = DecisionTreeClassifier(random_state=42)\n",
    "\n",
    "grid_dt = GridSearchCV(dt, param_grid, cv=5, scoring='accuracy')\n",
    "grid_dt.fit(X_train, y_train)\n",
    "\n",
    "best_params = grid_dt.best_params_\n",
    "print(\"Best DT Params:\", best_params)\n",
    "\n",
    "dt = DecisionTreeClassifier(**best_params, random_state=42)\n",
    "dt.fit(X_train, y_train)\n",
    "y_pred_dt = dt.predict(X_test)\n",
    "\n",
    "print(\"Decision Tree Accuracy:\", accuracy_score(y_test, y_pred_dt))\n",
    "print(confusion_matrix(y_test, y_pred_dt))\n",
    "print(classification_report(y_test, y_pred_dt))\n"
   ]
  },
  {
   "cell_type": "code",
   "execution_count": 24,
   "id": "e3ffaca1-ce62-4b5c-bdba-67d71007c6c4",
   "metadata": {},
   "outputs": [
    {
     "name": "stderr",
     "output_type": "stream",
     "text": [
      "C:\\Users\\kunal\\AppData\\Local\\Temp\\ipykernel_6652\\2291887349.py:8: FutureWarning: \n",
      "\n",
      "Passing `palette` without assigning `hue` is deprecated and will be removed in v0.14.0. Assign the `x` variable to `hue` and set `legend=False` for the same effect.\n",
      "\n",
      "  sns.barplot(x=list(scores.keys()), y=list(scores.values()), palette=\"viridis\")\n"
     ]
    },
    {
     "data": {
      "image/png": "[encoded data removed]",
      "text/plain": [
       "<Figure size 640x480 with 1 Axes>"
      ]
     },
     "metadata": {},
     "output_type": "display_data"
    }
   ],
   "source": [
    "# Compare Model Performance\n",
    "scores = {\n",
    "    \"Naive Bayes\": accuracy_score(y_test, y_pred_nb),\n",
    "    \"KNN\": accuracy_score(y_test, y_pred_knn),\n",
    "    \"Decision Tree\": accuracy_score(y_test, y_pred_dt),\n",
    "}\n",
    "\n",
    "sns.barplot(x=list(scores.keys()), y=list(scores.values()), palette=\"viridis\")\n",
    "plt.title(\"Model Accuracy Comparison\")\n",
    "plt.ylabel(\"Accuracy\")\n",
    "plt.show()\n"
   ]
  },
  {
   "cell_type": "code",
   "execution_count": null,
   "id": "40f8252b-cbe7-41d1-8c63-085e229b4739",
   "metadata": {},
   "outputs": [],
   "source": [
    "Final Report: Global Pollution Analysis and Energy Recovery\n",
    "1. Introduction\n",
    "This project aimed to analyze global pollution levels across countries, classify them into pollution severity categories, and explore how pollution impacts energy recovery and consumption. Using a comprehensive dataset with pollution indices (air, water, soil), industrial waste, CO2 emissions, renewable energy percentage, and economic indicators, we implemented various machine learning models to classify countries into Low, Medium, or High pollution severity.\n",
    "\n",
    "2. Data Preprocessing\n",
    "Dataset: The dataset included pollution and environmental data for multiple countries and years.\n",
    "\n",
    "Missing Data Handling: Missing values were imputed using mean imputation to maintain dataset integrity.\n",
    "\n",
    "Feature Engineering:\n",
    "\n",
    "Calculated average pollution index combining air, water, and soil pollution.\n",
    "\n",
    "Created a categorical target variable \"Pollution Severity\" with three classes: Low (<100), Medium (100–200), High (>200).\n",
    "\n",
    "Encoding: Categorical variables like \"Country\" and \"Year\" were label encoded.\n",
    "\n",
    "Normalization: Continuous features such as industrial waste, energy recovered, CO2 emissions, plastic waste, energy consumption per capita, and GDP per capita were standardized using StandardScaler to ensure fair treatment during model training.\n",
    "\n",
    "\n",
    "3. Methodology\n",
    "Three classifiers were trained and evaluated to classify pollution severity:\n",
    "\n",
    "Multinomial Naive Bayes (using GaussianNB due to continuous features)\n",
    "\n",
    "K-Nearest Neighbors (KNN)\n",
    "\n",
    "Decision Tree Classifier\n",
    "\n",
    "Data was split into training and testing sets (80/20 split) stratified by pollution severity to ensure balanced class representation.\n",
    "\n",
    "\n",
    "\n",
    "4. Model Evaluation\n",
    "Key Metrics Evaluated:\n",
    "Accuracy\n",
    "\n",
    "Confusion Matrix\n",
    "\n",
    "Precision, Recall, F1-score per class\n",
    "\n",
    "Results Summary:\n",
    "Model\tAccuracy\tComments\n",
    "Naive Bayes\tModerate\tAssumes feature independence; less effective with correlated pollution indices\n",
    "K-Nearest Neighbors\tGood\tPerformance depends on optimal K; best results with tuned K value\n",
    "Decision Tree\tBest\tOutperformed others, interpretable feature importance and strong classification\n",
    "The Decision Tree classifier showed the best balance between accuracy and explainability. Confusion matrices revealed most misclassifications occurred between Medium and High categories, reflecting the overlapping pollution characteristics.\n",
    "\n",
    "\n",
    "\n",
    "5. Insights and Actionable Findings\n",
    "Countries with high industrial waste and low renewable energy are consistently in the High pollution severity category.\n",
    "\n",
    "Energy recovery from waste shows an inverse relationship with pollution severity in some countries, indicating that efficient waste-to-energy practices can reduce pollution impact.\n",
    "\n",
    "Economic factors (GDP per capita) correlate moderately with pollution levels; generally, countries with higher GDP can invest more in pollution control and renewable energy.\n",
    "\n",
    "The classification models showed pollution severity is strongly influenced by combined environmental metrics rather than any single indicator.\n",
    "\n",
    "Policy Recommendations:\n",
    "Promote renewable energy adoption in high pollution countries to reduce reliance on fossil fuels and lower CO2 emissions.\n",
    "\n",
    "Enhance waste management infrastructure to maximize energy recovery from industrial and plastic waste, curbing pollution.\n",
    "\n",
    "Invest in monitoring and regulating water and soil pollution to address countries with severe pollution in these areas.\n",
    "\n",
    "Encourage international collaboration to support developing countries in pollution control technologies and sustainable development.\n",
    "\n",
    "\n",
    "\n",
    "6. Conclusion\n",
    "This project successfully classified countries into pollution severity groups using environmental and economic data, providing insights into pollution trends worldwide. The Decision Tree’s interpretability makes it a valuable tool for policymakers to identify key pollution drivers. Future work could integrate temporal trends for better dynamic classification and explore more advanced models with explainability."
   ]
  },
  {
   "cell_type": "code",
   "execution_count": null,
   "id": "bd7b8321-c295-44b2-b963-be881166e03c",
   "metadata": {},
   "outputs": [],
   "source": [
    "Summary\n",
    "This project analyzed global pollution data to classify countries into Low, Medium, and High pollution severity categories based on multiple environmental and economic factors. After thorough data preprocessing—including missing value imputation, encoding, feature engineering, and normalization—we implemented three machine learning classifiers: Naive Bayes, K-Nearest Neighbors, and Decision Tree. The Decision Tree model achieved the best accuracy and interpretability.\n",
    "\n",
    "Key findings reveal that high industrial waste and low renewable energy usage are major contributors to severe pollution, while energy recovery from waste can help mitigate these effects. Economic status also influences pollution levels, with wealthier countries generally showing better pollution control.\n",
    "\n",
    "The project provides actionable insights for policymakers to foster sustainable energy practices, improve waste management, and regulate environmental pollutants to reduce global pollution. This framework and classification approach creates a foundation for ongoing monitoring and targeted interventions toward cleaner, healthier environments worldwide."
   ]
  }
 ],
 "metadata": {
  "kernelspec": {
   "display_name": "Python 3 (ipykernel)",
   "language": "python",
   "name": "python3"
  },
  "language_info": {
   "codemirror_mode": {
    "name": "ipython",
    "version": 3
   },
   "file_extension": ".py",
   "mimetype": "text/x-python",
   "name": "python",
   "nbconvert_exporter": "python",
   "pygments_lexer": "ipython3",
   "version": "3.13.5"
  }
 },
 "nbformat": 4,
 "nbformat_minor": 5
}
